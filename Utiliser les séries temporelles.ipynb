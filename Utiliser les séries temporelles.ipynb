{
 "cells": [
  {
   "cell_type": "code",
   "execution_count": 9,
   "id": "2add671e",
   "metadata": {},
   "outputs": [],
   "source": [
    "import pandas as pd\n",
    "import numpy as np"
   ]
  },
  {
   "cell_type": "code",
   "execution_count": 1,
   "id": "3788d40c",
   "metadata": {},
   "outputs": [
    {
     "data": {
      "text/plain": [
       "datetime.datetime(2014, 10, 9, 0, 0)"
      ]
     },
     "execution_count": 1,
     "metadata": {},
     "output_type": "execute_result"
    }
   ],
   "source": [
    "from datetime import datetime\n",
    "d1=datetime(year=2014,month=10,day=9)\n",
    "d1"
   ]
  },
  {
   "cell_type": "code",
   "execution_count": 3,
   "id": "1bc41e8d",
   "metadata": {},
   "outputs": [
    {
     "data": {
      "text/plain": [
       "'Thursday'"
      ]
     },
     "execution_count": 3,
     "metadata": {},
     "output_type": "execute_result"
    }
   ],
   "source": [
    "#Récupérer le jour de la semaine\n",
    "d1.strftime('%A')"
   ]
  },
  {
   "cell_type": "code",
   "execution_count": 6,
   "id": "5c6d57ce",
   "metadata": {},
   "outputs": [],
   "source": [
    "#Utilisant numpy\n",
    "d2=np.array('2014-10-09',dtype=np.datetime64)"
   ]
  },
  {
   "cell_type": "code",
   "execution_count": 7,
   "id": "182688a5",
   "metadata": {},
   "outputs": [
    {
     "data": {
      "text/plain": [
       "numpy.datetime64('2014-10-09T01:00')"
      ]
     },
     "execution_count": 7,
     "metadata": {},
     "output_type": "execute_result"
    }
   ],
   "source": [
    "#Rajouter les cinq prochains jours ou encore précisant les heures et les minutes\n",
    "d2+np.arange(6)\n",
    "np.datetime64('2014-10-09 01:00')"
   ]
  },
  {
   "cell_type": "code",
   "execution_count": 12,
   "id": "98ca1127",
   "metadata": {},
   "outputs": [
    {
     "data": {
      "text/plain": [
       "Timestamp('2014-10-09 00:00:00')"
      ]
     },
     "execution_count": 12,
     "metadata": {},
     "output_type": "execute_result"
    }
   ],
   "source": [
    "#Utilisant pandas\n",
    "d3=pd.to_datetime(\"9th of October,2014\")\n",
    "d3"
   ]
  },
  {
   "cell_type": "code",
   "execution_count": 13,
   "id": "9960108f",
   "metadata": {},
   "outputs": [
    {
     "data": {
      "text/plain": [
       "'Thursday'"
      ]
     },
     "execution_count": 13,
     "metadata": {},
     "output_type": "execute_result"
    }
   ],
   "source": [
    "#Récupérer le jour de la semaine\n",
    "d3.strftime('%A')"
   ]
  },
  {
   "cell_type": "code",
   "execution_count": 14,
   "id": "f58cc477",
   "metadata": {},
   "outputs": [],
   "source": [
    "index1=pd.DatetimeIndex(['2014-10-09','2014-11-10','2015-10-11','2015-11-12'])"
   ]
  },
  {
   "cell_type": "code",
   "execution_count": 16,
   "id": "ae036838",
   "metadata": {},
   "outputs": [
    {
     "data": {
      "text/plain": [
       "2014-10-09    0\n",
       "2014-11-10    1\n",
       "2015-10-11    2\n",
       "2015-11-12    3\n",
       "dtype: int64"
      ]
     },
     "execution_count": 16,
     "metadata": {},
     "output_type": "execute_result"
    }
   ],
   "source": [
    "d5=pd.Series([0,1,2,3],index=index1)\n",
    "d5"
   ]
  },
  {
   "cell_type": "code",
   "execution_count": 17,
   "id": "137ce55a",
   "metadata": {},
   "outputs": [
    {
     "data": {
      "text/plain": [
       "2014-10-09    0\n",
       "2014-11-10    1\n",
       "2015-10-11    2\n",
       "dtype: int64"
      ]
     },
     "execution_count": 17,
     "metadata": {},
     "output_type": "execute_result"
    }
   ],
   "source": [
    "#Découpage\n",
    "#Données se situant avant le 11 october 2015:\n",
    "d5[:'2015-10-11']"
   ]
  },
  {
   "cell_type": "code",
   "execution_count": 18,
   "id": "3adcab3e",
   "metadata": {},
   "outputs": [
    {
     "data": {
      "text/plain": [
       "2014-11-10    1\n",
       "2015-10-11    2\n",
       "dtype: int64"
      ]
     },
     "execution_count": 18,
     "metadata": {},
     "output_type": "execute_result"
    }
   ],
   "source": [
    "#Données se situant entre le 10 novembre 2014 et le 11 octobre 2015:\n",
    "d5['2014-11-10':'2015-10-11']"
   ]
  },
  {
   "cell_type": "code",
   "execution_count": 19,
   "id": "257f146a",
   "metadata": {},
   "outputs": [
    {
     "data": {
      "text/plain": [
       "2014-10-09    0\n",
       "2014-11-10    1\n",
       "dtype: int64"
      ]
     },
     "execution_count": 19,
     "metadata": {},
     "output_type": "execute_result"
    }
   ],
   "source": [
    "#Filtrer sur l'année 2014:\n",
    "d5['2014']"
   ]
  },
  {
   "cell_type": "code",
   "execution_count": null,
   "id": "609765e8",
   "metadata": {},
   "outputs": [],
   "source": []
  }
 ],
 "metadata": {
  "kernelspec": {
   "display_name": "Python 3 (ipykernel)",
   "language": "python",
   "name": "python3"
  },
  "language_info": {
   "codemirror_mode": {
    "name": "ipython",
    "version": 3
   },
   "file_extension": ".py",
   "mimetype": "text/x-python",
   "name": "python",
   "nbconvert_exporter": "python",
   "pygments_lexer": "ipython3",
   "version": "3.10.9"
  }
 },
 "nbformat": 4,
 "nbformat_minor": 5
}
