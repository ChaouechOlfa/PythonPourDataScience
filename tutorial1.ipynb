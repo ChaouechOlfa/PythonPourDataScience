{
 "cells": [
  {
   "cell_type": "code",
   "execution_count": 1,
   "id": "808d0a4a",
   "metadata": {},
   "outputs": [
    {
     "data": {
      "text/plain": [
       "'a'"
      ]
     },
     "execution_count": 1,
     "metadata": {},
     "output_type": "execute_result"
    }
   ],
   "source": [
    "#Les listes\n",
    "maListe=['a','b','c','d']\n",
    "maListe[0]"
   ]
  },
  {
   "cell_type": "code",
   "execution_count": 2,
   "id": "1aab2222",
   "metadata": {},
   "outputs": [],
   "source": [
    "#Notez que les listes peuvent être hétérogènes en mélangeant plusieurs éléments\n",
    "Liste1=['a',1,2,5]"
   ]
  },
  {
   "cell_type": "code",
   "execution_count": 3,
   "id": "476553df",
   "metadata": {},
   "outputs": [
    {
     "data": {
      "text/plain": [
       "str"
      ]
     },
     "execution_count": 3,
     "metadata": {},
     "output_type": "execute_result"
    }
   ],
   "source": [
    "#Nous pouvons retournez le type d'un élément, en utilisant le fonction type et en utilisant l'indice de l'élément\n",
    "type(Liste1[0])"
   ]
  },
  {
   "cell_type": "code",
   "execution_count": 4,
   "id": "b4c740f7",
   "metadata": {},
   "outputs": [
    {
     "data": {
      "text/plain": [
       "4"
      ]
     },
     "execution_count": 4,
     "metadata": {},
     "output_type": "execute_result"
    }
   ],
   "source": [
    "#La fonction len permet quant à elle de retourner la langueur d'une liste\n",
    "len(Liste1)"
   ]
  },
  {
   "cell_type": "code",
   "execution_count": 5,
   "id": "61882b87",
   "metadata": {},
   "outputs": [],
   "source": [
    "#Pour rajouter un élément dans une liste, nous utilisons la fct append\n",
    "Liste1.append('c')"
   ]
  },
  {
   "cell_type": "code",
   "execution_count": 6,
   "id": "ec13084e",
   "metadata": {},
   "outputs": [
    {
     "ename": "NameError",
     "evalue": "name 'liste1' is not defined",
     "output_type": "error",
     "traceback": [
      "\u001b[1;31m---------------------------------------------------------------------------\u001b[0m",
      "\u001b[1;31mNameError\u001b[0m                                 Traceback (most recent call last)",
      "Cell \u001b[1;32mIn[6], line 1\u001b[0m\n\u001b[1;32m----> 1\u001b[0m \u001b[43mliste1\u001b[49m\n",
      "\u001b[1;31mNameError\u001b[0m: name 'liste1' is not defined"
     ]
    }
   ],
   "source": [
    "liste1"
   ]
  },
  {
   "cell_type": "code",
   "execution_count": 7,
   "id": "ecac9e3f",
   "metadata": {},
   "outputs": [
    {
     "data": {
      "text/plain": [
       "['a', 1, 2, 5, 'c']"
      ]
     },
     "execution_count": 7,
     "metadata": {},
     "output_type": "execute_result"
    }
   ],
   "source": [
    "Liste1"
   ]
  },
  {
   "cell_type": "code",
   "execution_count": 8,
   "id": "646c2448",
   "metadata": {},
   "outputs": [
    {
     "data": {
      "text/plain": [
       "['a', 1, 5, 'c']"
      ]
     },
     "execution_count": 8,
     "metadata": {},
     "output_type": "execute_result"
    }
   ],
   "source": [
    "#Nous pouvons supprimer des éléments, soit par leur indice en utilisant la fonction del, soit en utilisant\n",
    "#directement la valeur avec cette fois-ci, la fonction remove\n",
    "Liste1.remove(2)\n",
    "Liste1"
   ]
  },
  {
   "cell_type": "code",
   "execution_count": 9,
   "id": "07a59e86",
   "metadata": {},
   "outputs": [],
   "source": [
    "del Liste1[2]"
   ]
  },
  {
   "cell_type": "code",
   "execution_count": 10,
   "id": "fa2f75bd",
   "metadata": {},
   "outputs": [
    {
     "data": {
      "text/plain": [
       "['a', 1, 'c']"
      ]
     },
     "execution_count": 10,
     "metadata": {},
     "output_type": "execute_result"
    }
   ],
   "source": [
    "Liste1"
   ]
  },
  {
   "cell_type": "code",
   "execution_count": 11,
   "id": "e0f64f05",
   "metadata": {},
   "outputs": [],
   "source": [
    "#Nous pouvons utiliser la concaténation avec la fonction extend\n",
    "Liste1.extend([12,3,'a',3])"
   ]
  },
  {
   "cell_type": "code",
   "execution_count": 12,
   "id": "63af8f9d",
   "metadata": {},
   "outputs": [
    {
     "data": {
      "text/plain": [
       "['a', 1, 'c', 12, 3, 'a', 3]"
      ]
     },
     "execution_count": 12,
     "metadata": {},
     "output_type": "execute_result"
    }
   ],
   "source": [
    "Liste1"
   ]
  },
  {
   "cell_type": "code",
   "execution_count": 13,
   "id": "ed28ad2c",
   "metadata": {},
   "outputs": [
    {
     "data": {
      "text/plain": [
       "2"
      ]
     },
     "execution_count": 13,
     "metadata": {},
     "output_type": "execute_result"
    }
   ],
   "source": [
    "#La fonction count permet de compter le nombre d'occurences d'un élément donné\n",
    "Liste1.count(\"a\")"
   ]
  },
  {
   "cell_type": "code",
   "execution_count": 14,
   "id": "d5a0d25a",
   "metadata": {},
   "outputs": [
    {
     "data": {
      "text/plain": [
       "0"
      ]
     },
     "execution_count": 14,
     "metadata": {},
     "output_type": "execute_result"
    }
   ],
   "source": [
    "#Nous pouvons aussi recupérer l'indice d'un élément, en utilisant la fonction index\n",
    "#S'il y a plusieurs occurences, nous obtiendrons alors l'indice du premier élément\n",
    "Liste1.index('a')"
   ]
  },
  {
   "cell_type": "code",
   "execution_count": 15,
   "id": "ecf47be9",
   "metadata": {},
   "outputs": [],
   "source": [
    "#Inverser des items de liste peut se faire avec la fonction reverse\n",
    "Liste1.reverse()"
   ]
  },
  {
   "cell_type": "code",
   "execution_count": 16,
   "id": "f420ef68",
   "metadata": {},
   "outputs": [],
   "source": [
    "#Pour concaténer deux listes, nous pouvons utiliser la méthode extend ou un simple +\n",
    "NewListe=maListe+Liste1"
   ]
  },
  {
   "cell_type": "code",
   "execution_count": 17,
   "id": "87cb6448",
   "metadata": {},
   "outputs": [
    {
     "data": {
      "text/plain": [
       "['a', 'b', 'c', 'd', 3, 'a', 3, 12, 'c', 1, 'a']"
      ]
     },
     "execution_count": 17,
     "metadata": {},
     "output_type": "execute_result"
    }
   ],
   "source": [
    "NewListe"
   ]
  },
  {
   "cell_type": "code",
   "execution_count": 18,
   "id": "58fbcab1",
   "metadata": {},
   "outputs": [],
   "source": [
    "#Il est possible aussi d'insérer des élément à n'importe quelle position en utilisant la méthode insert\n",
    "NewListe.insert(1,'H')"
   ]
  },
  {
   "cell_type": "code",
   "execution_count": 19,
   "id": "68247769",
   "metadata": {},
   "outputs": [
    {
     "data": {
      "text/plain": [
       "['a', 'H', 'b', 'c', 'd', 3, 'a', 3, 12, 'c', 1, 'a']"
      ]
     },
     "execution_count": 19,
     "metadata": {},
     "output_type": "execute_result"
    }
   ],
   "source": [
    "NewListe"
   ]
  },
  {
   "cell_type": "code",
   "execution_count": 20,
   "id": "18dbdadc",
   "metadata": {},
   "outputs": [
    {
     "ename": "TypeError",
     "evalue": "'<' not supported between instances of 'int' and 'str'",
     "output_type": "error",
     "traceback": [
      "\u001b[1;31m---------------------------------------------------------------------------\u001b[0m",
      "\u001b[1;31mTypeError\u001b[0m                                 Traceback (most recent call last)",
      "Cell \u001b[1;32mIn[20], line 2\u001b[0m\n\u001b[0;32m      1\u001b[0m \u001b[38;5;66;03m#pour effectuer un tri, nous utilisons la fonction sort\u001b[39;00m\n\u001b[1;32m----> 2\u001b[0m \u001b[43mNewListe\u001b[49m\u001b[38;5;241;43m.\u001b[39;49m\u001b[43msort\u001b[49m\u001b[43m(\u001b[49m\u001b[43m)\u001b[49m\n",
      "\u001b[1;31mTypeError\u001b[0m: '<' not supported between instances of 'int' and 'str'"
     ]
    }
   ],
   "source": [
    "#pour effectuer un tri, nous utilisons la fonction sort\n",
    "NewListe.sort()"
   ]
  },
  {
   "cell_type": "code",
   "execution_count": 21,
   "id": "b787d6cb",
   "metadata": {},
   "outputs": [],
   "source": [
    "Liste2=[2,9,1,0,4,9,0]\n",
    "Liste2.sort()"
   ]
  },
  {
   "cell_type": "code",
   "execution_count": 22,
   "id": "49266a2b",
   "metadata": {},
   "outputs": [
    {
     "data": {
      "text/plain": [
       "[0, 0, 1, 2, 4, 9, 9]"
      ]
     },
     "execution_count": 22,
     "metadata": {},
     "output_type": "execute_result"
    }
   ],
   "source": [
    "Liste2"
   ]
  },
  {
   "cell_type": "code",
   "execution_count": 23,
   "id": "074442d1",
   "metadata": {},
   "outputs": [
    {
     "data": {
      "text/plain": [
       "[0, 0, 1, 2, 4, 9, 9]"
      ]
     },
     "execution_count": 23,
     "metadata": {},
     "output_type": "execute_result"
    }
   ],
   "source": [
    "#Il est possible aussi d'afficher directement le resultat en utilisant directement la fonction sorted\n",
    "sorted(Liste2)"
   ]
  },
  {
   "cell_type": "code",
   "execution_count": 28,
   "id": "05afe606",
   "metadata": {},
   "outputs": [
    {
     "data": {
      "text/plain": [
       "[9, 9, 4, 2, 1, 0, 0]"
      ]
     },
     "execution_count": 28,
     "metadata": {},
     "output_type": "execute_result"
    }
   ],
   "source": [
    "#Pour réaliser un tri décroissant, nous utilisons la valeur True, pour le paramètre Reverse\n",
    "sorted(Liste2,reverse=True)"
   ]
  },
  {
   "cell_type": "code",
   "execution_count": 29,
   "id": "452d61d0",
   "metadata": {},
   "outputs": [],
   "source": [
    "#Pour obtenir une sousliste des deux premiers éléments, nous procédons comme suit\n",
    "NewList=Liste2[:2]"
   ]
  },
  {
   "cell_type": "code",
   "execution_count": 30,
   "id": "f6cffd25",
   "metadata": {},
   "outputs": [
    {
     "data": {
      "text/plain": [
       "[0, 0]"
      ]
     },
     "execution_count": 30,
     "metadata": {},
     "output_type": "execute_result"
    }
   ],
   "source": [
    "NewList"
   ]
  },
  {
   "cell_type": "code",
   "execution_count": 31,
   "id": "9a712284",
   "metadata": {},
   "outputs": [],
   "source": [
    "#Nous pouvons constituer une liste à partir du troisième élément de notre liste de départ\n",
    "NewList1=Liste2[2:]"
   ]
  },
  {
   "cell_type": "code",
   "execution_count": 32,
   "id": "52ac17ab",
   "metadata": {},
   "outputs": [
    {
     "data": {
      "text/plain": [
       "[1, 2, 4, 9, 9]"
      ]
     },
     "execution_count": 32,
     "metadata": {},
     "output_type": "execute_result"
    }
   ],
   "source": [
    "NewList1"
   ]
  },
  {
   "cell_type": "code",
   "execution_count": 33,
   "id": "b5678172",
   "metadata": {},
   "outputs": [
    {
     "data": {
      "text/plain": [
       "[1, 2]"
      ]
     },
     "execution_count": 33,
     "metadata": {},
     "output_type": "execute_result"
    }
   ],
   "source": [
    "#Construire une liste contenant des éléments entre deux indices données\n",
    "NewList2=Liste2[2:4]\n",
    "NewList2"
   ]
  },
  {
   "cell_type": "code",
   "execution_count": 38,
   "id": "74ebefb3",
   "metadata": {},
   "outputs": [],
   "source": [
    "#Utiliser des indices négatifs pour compter cette fois ci à partir de la fin\n",
    "Newliste3=Liste2[:-2]"
   ]
  },
  {
   "cell_type": "code",
   "execution_count": 39,
   "id": "5f036835",
   "metadata": {},
   "outputs": [
    {
     "data": {
      "text/plain": [
       "[0, 0, 1, 2, 4]"
      ]
     },
     "execution_count": 39,
     "metadata": {},
     "output_type": "execute_result"
    }
   ],
   "source": [
    "Newliste3"
   ]
  },
  {
   "cell_type": "code",
   "execution_count": 41,
   "id": "dc3e1980",
   "metadata": {},
   "outputs": [
    {
     "name": "stdout",
     "output_type": "stream",
     "text": [
      "0\n",
      "0\n",
      "1\n",
      "2\n",
      "4\n"
     ]
    }
   ],
   "source": [
    "#Comment boucler sur une liste\n",
    "for élément in Newliste3:\n",
    "    print(élément)"
   ]
  },
  {
   "cell_type": "code",
   "execution_count": null,
   "id": "094164da",
   "metadata": {},
   "outputs": [],
   "source": [
    "#Si vous souhaitez récuperer en plus l'indice\n",
    "for élément in enumerate(Newliste3):\n",
    "    print(élément)"
   ]
  }
 ],
 "metadata": {
  "kernelspec": {
   "display_name": "Python 3 (ipykernel)",
   "language": "python",
   "name": "python3"
  },
  "language_info": {
   "codemirror_mode": {
    "name": "ipython",
    "version": 3
   },
   "file_extension": ".py",
   "mimetype": "text/x-python",
   "name": "python",
   "nbconvert_exporter": "python",
   "pygments_lexer": "ipython3",
   "version": "3.10.9"
  }
 },
 "nbformat": 4,
 "nbformat_minor": 5
}
