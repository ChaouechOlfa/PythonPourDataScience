{
 "cells": [
  {
   "cell_type": "code",
   "execution_count": 1,
   "id": "c60c04ab",
   "metadata": {},
   "outputs": [
    {
     "data": {
      "text/plain": [
       "'a'"
      ]
     },
     "execution_count": 1,
     "metadata": {},
     "output_type": "execute_result"
    }
   ],
   "source": [
    "#Les listes\n",
    "maListe=['a','b','c','d']\n",
    "maListe[0]"
   ]
  },
  {
   "cell_type": "code",
   "execution_count": 2,
   "id": "cb25b942",
   "metadata": {},
   "outputs": [],
   "source": [
    "#Notez que les listes peuvent être hétérogènes en mélangeant plusieurs éléments\n",
    "Liste1=['a',1,2,5]"
   ]
  },
  {
   "cell_type": "code",
   "execution_count": 3,
   "id": "e097865c",
   "metadata": {},
   "outputs": [
    {
     "data": {
      "text/plain": [
       "str"
      ]
     },
     "execution_count": 3,
     "metadata": {},
     "output_type": "execute_result"
    }
   ],
   "source": [
    "#Nous pouvons retournez le type d'un élément, en utilisant le fonction type et en utilisant l'indice de l'élément\n",
    "type(Liste1[0])"
   ]
  },
  {
   "cell_type": "code",
   "execution_count": 4,
   "id": "08ff6b82",
   "metadata": {},
   "outputs": [
    {
     "data": {
      "text/plain": [
       "4"
      ]
     },
     "execution_count": 4,
     "metadata": {},
     "output_type": "execute_result"
    }
   ],
   "source": [
    "#La fonction len permet quant à elle de retourner la langueur d'une liste\n",
    "len(Liste1)"
   ]
  },
  {
   "cell_type": "code",
   "execution_count": 5,
   "id": "c6799554",
   "metadata": {},
   "outputs": [],
   "source": [
    "#Pour rajouter un élément dans une liste, nous utilisons la fct append\n",
    "Liste1.append('c')"
   ]
  },
  {
   "cell_type": "code",
   "execution_count": 6,
   "id": "dd3afa3d",
   "metadata": {},
   "outputs": [
    {
     "ename": "NameError",
     "evalue": "name 'liste1' is not defined",
     "output_type": "error",
     "traceback": [
      "\u001b[1;31m---------------------------------------------------------------------------\u001b[0m",
      "\u001b[1;31mNameError\u001b[0m                                 Traceback (most recent call last)",
      "Cell \u001b[1;32mIn[6], line 1\u001b[0m\n\u001b[1;32m----> 1\u001b[0m \u001b[43mliste1\u001b[49m\n",
      "\u001b[1;31mNameError\u001b[0m: name 'liste1' is not defined"
     ]
    }
   ],
   "source": [
    "liste1"
   ]
  },
  {
   "cell_type": "code",
   "execution_count": 7,
   "id": "c04b68ea",
   "metadata": {},
   "outputs": [
    {
     "data": {
      "text/plain": [
       "['a', 1, 2, 5, 'c']"
      ]
     },
     "execution_count": 7,
     "metadata": {},
     "output_type": "execute_result"
    }
   ],
   "source": [
    "Liste1"
   ]
  },
  {
   "cell_type": "code",
   "execution_count": 8,
   "id": "4107ce90",
   "metadata": {},
   "outputs": [
    {
     "data": {
      "text/plain": [
       "['a', 1, 5, 'c']"
      ]
     },
     "execution_count": 8,
     "metadata": {},
     "output_type": "execute_result"
    }
   ],
   "source": [
    "#Nous pouvons supprimer des éléments, soit par leur indice en utilisant la fonction del, soit en utilisant\n",
    "#directement la valeur avec cette fois-ci, la fonction remove\n",
    "Liste1.remove(2)\n",
    "Liste1"
   ]
  },
  {
   "cell_type": "code",
   "execution_count": 9,
   "id": "7d581e39",
   "metadata": {},
   "outputs": [],
   "source": [
    "del Liste1[2]"
   ]
  },
  {
   "cell_type": "code",
   "execution_count": 10,
   "id": "e745f3c7",
   "metadata": {},
   "outputs": [
    {
     "data": {
      "text/plain": [
       "['a', 1, 'c']"
      ]
     },
     "execution_count": 10,
     "metadata": {},
     "output_type": "execute_result"
    }
   ],
   "source": [
    "Liste1"
   ]
  },
  {
   "cell_type": "code",
   "execution_count": 11,
   "id": "68785c38",
   "metadata": {},
   "outputs": [],
   "source": [
    "#Nous pouvons utiliser la concaténation avec la fonction extend\n",
    "Liste1.extend([12,3,'a',3])"
   ]
  },
  {
   "cell_type": "code",
   "execution_count": 12,
   "id": "03f8f91c",
   "metadata": {},
   "outputs": [
    {
     "data": {
      "text/plain": [
       "['a', 1, 'c', 12, 3, 'a', 3]"
      ]
     },
     "execution_count": 12,
     "metadata": {},
     "output_type": "execute_result"
    }
   ],
   "source": [
    "Liste1"
   ]
  },
  {
   "cell_type": "code",
   "execution_count": 13,
   "id": "da3099a7",
   "metadata": {},
   "outputs": [
    {
     "data": {
      "text/plain": [
       "2"
      ]
     },
     "execution_count": 13,
     "metadata": {},
     "output_type": "execute_result"
    }
   ],
   "source": [
    "#La fonction count permet de compter le nombre d'occurences d'un élément donné\n",
    "Liste1.count(\"a\")"
   ]
  },
  {
   "cell_type": "code",
   "execution_count": 14,
   "id": "346e3f15",
   "metadata": {},
   "outputs": [
    {
     "data": {
      "text/plain": [
       "0"
      ]
     },
     "execution_count": 14,
     "metadata": {},
     "output_type": "execute_result"
    }
   ],
   "source": [
    "#Nous pouvons aussi recupérer l'indice d'un élément, en utilisant la fonction index\n",
    "#S'il y a plusieurs occurences, nous obtiendrons alors l'indice du premier élément\n",
    "Liste1.index('a')"
   ]
  },
  {
   "cell_type": "code",
   "execution_count": 15,
   "id": "ee21fa24",
   "metadata": {},
   "outputs": [],
   "source": [
    "#Inverser des items de liste peut se faire avec la fonction reverse\n",
    "Liste1.reverse()"
   ]
  },
  {
   "cell_type": "code",
   "execution_count": 16,
   "id": "4ffeddee",
   "metadata": {},
   "outputs": [],
   "source": [
    "#Pour concaténer deux listes, nous pouvons utiliser la méthode extend ou un simple +\n",
    "NewListe=maListe+Liste1"
   ]
  },
  {
   "cell_type": "code",
   "execution_count": 17,
   "id": "eec45fd0",
   "metadata": {},
   "outputs": [
    {
     "data": {
      "text/plain": [
       "['a', 'b', 'c', 'd', 3, 'a', 3, 12, 'c', 1, 'a']"
      ]
     },
     "execution_count": 17,
     "metadata": {},
     "output_type": "execute_result"
    }
   ],
   "source": [
    "NewListe"
   ]
  },
  {
   "cell_type": "code",
   "execution_count": 18,
   "id": "ff4fde00",
   "metadata": {},
   "outputs": [],
   "source": [
    "#Il est possible aussi d'insérer des élément à n'importe quelle position en utilisant la méthode insert\n",
    "NewListe.insert(1,'H')"
   ]
  },
  {
   "cell_type": "code",
   "execution_count": 19,
   "id": "5b940309",
   "metadata": {},
   "outputs": [
    {
     "data": {
      "text/plain": [
       "['a', 'H', 'b', 'c', 'd', 3, 'a', 3, 12, 'c', 1, 'a']"
      ]
     },
     "execution_count": 19,
     "metadata": {},
     "output_type": "execute_result"
    }
   ],
   "source": [
    "NewListe"
   ]
  },
  {
   "cell_type": "code",
   "execution_count": null,
   "id": "9eb2a859",
   "metadata": {},
   "outputs": [],
   "source": []
  }
 ],
 "metadata": {
  "kernelspec": {
   "display_name": "Python 3 (ipykernel)",
   "language": "python",
   "name": "python3"
  },
  "language_info": {
   "codemirror_mode": {
    "name": "ipython",
    "version": 3
   },
   "file_extension": ".py",
   "mimetype": "text/x-python",
   "name": "python",
   "nbconvert_exporter": "python",
   "pygments_lexer": "ipython3",
   "version": "3.10.9"
  }
 },
 "nbformat": 4,
 "nbformat_minor": 5
}
