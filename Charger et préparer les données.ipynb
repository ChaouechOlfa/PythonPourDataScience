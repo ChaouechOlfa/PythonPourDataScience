{
 "cells": [
  {
   "cell_type": "code",
   "execution_count": 2,
   "id": "dbab17b0",
   "metadata": {},
   "outputs": [],
   "source": [
    "#Import de fichier appelé exemple.xlsx\n",
    "import pandas as pd\n",
    "e=pd.read_excel(\"exemple.xlsx\")"
   ]
  },
  {
   "cell_type": "code",
   "execution_count": 3,
   "id": "aaa2ee0b",
   "metadata": {},
   "outputs": [
    {
     "data": {
      "text/html": [
       "<div>\n",
       "<style scoped>\n",
       "    .dataframe tbody tr th:only-of-type {\n",
       "        vertical-align: middle;\n",
       "    }\n",
       "\n",
       "    .dataframe tbody tr th {\n",
       "        vertical-align: top;\n",
       "    }\n",
       "\n",
       "    .dataframe thead th {\n",
       "        text-align: right;\n",
       "    }\n",
       "</style>\n",
       "<table border=\"1\" class=\"dataframe\">\n",
       "  <thead>\n",
       "    <tr style=\"text-align: right;\">\n",
       "      <th></th>\n",
       "      <th>Nom</th>\n",
       "      <th>Prénom</th>\n",
       "      <th>Note 1</th>\n",
       "      <th>Note 2</th>\n",
       "    </tr>\n",
       "  </thead>\n",
       "  <tbody>\n",
       "    <tr>\n",
       "      <th>0</th>\n",
       "      <td>Tremblay</td>\n",
       "      <td>Alex</td>\n",
       "      <td>16</td>\n",
       "      <td>12</td>\n",
       "    </tr>\n",
       "    <tr>\n",
       "      <th>1</th>\n",
       "      <td>Mestari</td>\n",
       "      <td>Ibrahim</td>\n",
       "      <td>13</td>\n",
       "      <td>16</td>\n",
       "    </tr>\n",
       "    <tr>\n",
       "      <th>2</th>\n",
       "      <td>Manjra</td>\n",
       "      <td>Sara</td>\n",
       "      <td>15</td>\n",
       "      <td>16</td>\n",
       "    </tr>\n",
       "  </tbody>\n",
       "</table>\n",
       "</div>"
      ],
      "text/plain": [
       "        Nom   Prénom  Note 1  Note 2\n",
       "0  Tremblay     Alex      16      12\n",
       "1   Mestari  Ibrahim      13      16\n",
       "2    Manjra     Sara      15      16"
      ]
     },
     "execution_count": 3,
     "metadata": {},
     "output_type": "execute_result"
    }
   ],
   "source": [
    "#Nous avons alors un data frame contenant nom, prénom,note1 et note2\n",
    "e"
   ]
  },
  {
   "cell_type": "code",
   "execution_count": 4,
   "id": "955f5764",
   "metadata": {},
   "outputs": [
    {
     "data": {
      "text/plain": [
       "pandas.core.frame.DataFrame"
      ]
     },
     "execution_count": 4,
     "metadata": {},
     "output_type": "execute_result"
    }
   ],
   "source": [
    "#Vérifions avec type\n",
    "type(e)"
   ]
  },
  {
   "cell_type": "code",
   "execution_count": 7,
   "id": "777cf5ea",
   "metadata": {},
   "outputs": [],
   "source": [
    "#Calculez la moyenne\n",
    "e[\"Note finale\"]=(e[\"Note 1\"]+e[\"Note 2\"])/2"
   ]
  },
  {
   "cell_type": "code",
   "execution_count": 8,
   "id": "c5fffd03",
   "metadata": {},
   "outputs": [
    {
     "data": {
      "text/plain": [
       "0    14.0\n",
       "1    14.5\n",
       "2    15.5\n",
       "Name: Note finale, dtype: float64"
      ]
     },
     "execution_count": 8,
     "metadata": {},
     "output_type": "execute_result"
    }
   ],
   "source": [
    "e[\"Note finale\"]"
   ]
  },
  {
   "cell_type": "code",
   "execution_count": 9,
   "id": "63aada32",
   "metadata": {},
   "outputs": [],
   "source": [
    "\"\"\"Nous pouvons dès lors stocker ses résultats dans un fichier que nous allons créer avec la fct cette fois-ci to_Excel que \n",
    "nous allons appeler ici résultats avec l'extension xlsx\"\"\"\n",
    "e.to_excel(\"résultat.xlsx\")"
   ]
  },
  {
   "cell_type": "code",
   "execution_count": 11,
   "id": "94a5a9fb",
   "metadata": {},
   "outputs": [],
   "source": [
    "e1=pd.read_csv(\"exemple.csv\")"
   ]
  },
  {
   "cell_type": "code",
   "execution_count": 12,
   "id": "4db0e1f6",
   "metadata": {},
   "outputs": [
    {
     "data": {
      "text/html": [
       "<div>\n",
       "<style scoped>\n",
       "    .dataframe tbody tr th:only-of-type {\n",
       "        vertical-align: middle;\n",
       "    }\n",
       "\n",
       "    .dataframe tbody tr th {\n",
       "        vertical-align: top;\n",
       "    }\n",
       "\n",
       "    .dataframe thead th {\n",
       "        text-align: right;\n",
       "    }\n",
       "</style>\n",
       "<table border=\"1\" class=\"dataframe\">\n",
       "  <thead>\n",
       "    <tr style=\"text-align: right;\">\n",
       "      <th></th>\n",
       "      <th>Nom;Prénom;Note 1;Note 2</th>\n",
       "    </tr>\n",
       "  </thead>\n",
       "  <tbody>\n",
       "    <tr>\n",
       "      <th>0</th>\n",
       "      <td>Tremblay;Alex;16;12</td>\n",
       "    </tr>\n",
       "    <tr>\n",
       "      <th>1</th>\n",
       "      <td>Mestari;Ibrahim;13;16</td>\n",
       "    </tr>\n",
       "    <tr>\n",
       "      <th>2</th>\n",
       "      <td>Manjra;Sara;15;16</td>\n",
       "    </tr>\n",
       "  </tbody>\n",
       "</table>\n",
       "</div>"
      ],
      "text/plain": [
       "  Nom;Prénom;Note 1;Note 2\n",
       "0      Tremblay;Alex;16;12\n",
       "1    Mestari;Ibrahim;13;16\n",
       "2        Manjra;Sara;15;16"
      ]
     },
     "execution_count": 12,
     "metadata": {},
     "output_type": "execute_result"
    }
   ],
   "source": [
    "e1"
   ]
  },
  {
   "cell_type": "code",
   "execution_count": 13,
   "id": "c21ec3d9",
   "metadata": {},
   "outputs": [],
   "source": [
    "e1=pd.read_csv(\"exemple.csv\",sep=\";\")"
   ]
  },
  {
   "cell_type": "code",
   "execution_count": 14,
   "id": "7d910e12",
   "metadata": {},
   "outputs": [
    {
     "data": {
      "text/html": [
       "<div>\n",
       "<style scoped>\n",
       "    .dataframe tbody tr th:only-of-type {\n",
       "        vertical-align: middle;\n",
       "    }\n",
       "\n",
       "    .dataframe tbody tr th {\n",
       "        vertical-align: top;\n",
       "    }\n",
       "\n",
       "    .dataframe thead th {\n",
       "        text-align: right;\n",
       "    }\n",
       "</style>\n",
       "<table border=\"1\" class=\"dataframe\">\n",
       "  <thead>\n",
       "    <tr style=\"text-align: right;\">\n",
       "      <th></th>\n",
       "      <th>Nom</th>\n",
       "      <th>Prénom</th>\n",
       "      <th>Note 1</th>\n",
       "      <th>Note 2</th>\n",
       "    </tr>\n",
       "  </thead>\n",
       "  <tbody>\n",
       "    <tr>\n",
       "      <th>0</th>\n",
       "      <td>Tremblay</td>\n",
       "      <td>Alex</td>\n",
       "      <td>16</td>\n",
       "      <td>12</td>\n",
       "    </tr>\n",
       "    <tr>\n",
       "      <th>1</th>\n",
       "      <td>Mestari</td>\n",
       "      <td>Ibrahim</td>\n",
       "      <td>13</td>\n",
       "      <td>16</td>\n",
       "    </tr>\n",
       "    <tr>\n",
       "      <th>2</th>\n",
       "      <td>Manjra</td>\n",
       "      <td>Sara</td>\n",
       "      <td>15</td>\n",
       "      <td>16</td>\n",
       "    </tr>\n",
       "  </tbody>\n",
       "</table>\n",
       "</div>"
      ],
      "text/plain": [
       "        Nom   Prénom  Note 1  Note 2\n",
       "0  Tremblay     Alex      16      12\n",
       "1   Mestari  Ibrahim      13      16\n",
       "2    Manjra     Sara      15      16"
      ]
     },
     "execution_count": 14,
     "metadata": {},
     "output_type": "execute_result"
    }
   ],
   "source": [
    "e1"
   ]
  },
  {
   "cell_type": "code",
   "execution_count": 16,
   "id": "e6bfa0cf",
   "metadata": {},
   "outputs": [],
   "source": [
    "#Charger un fichier JSON (Javascript Object Notation)\n",
    "#Création d'un dictionnaire\n",
    "D_pays={'Pays1':{'Code_Pays':'AT',\n",
    "               'Nom_Pays':'Autriche',\n",
    "               'Langue':'Allemand'},\n",
    "       'Pays2':{'Code_Pays':'FR',\n",
    "               'Nom_Pays':'France',\n",
    "               'Langue':'Français'},\n",
    "       'Pays3':{'Code_Pays':'MA',\n",
    "               'Nom_Pays':'Maroc',\n",
    "               'Langue':'Arabe'}}\n"
   ]
  },
  {
   "cell_type": "code",
   "execution_count": 17,
   "id": "e0e1a6b5",
   "metadata": {},
   "outputs": [
    {
     "data": {
      "text/plain": [
       "{'Pays1': {'Code_Pays': 'AT', 'Nom_Pays': 'Autriche', 'Langue': 'Allemand'},\n",
       " 'Pays2': {'Code_Pays': 'FR', 'Nom_Pays': 'France', 'Langue': 'Français'},\n",
       " 'Pays3': {'Code_Pays': 'MA', 'Nom_Pays': 'Maroc', 'Langue': 'Arabe'}}"
      ]
     },
     "execution_count": 17,
     "metadata": {},
     "output_type": "execute_result"
    }
   ],
   "source": [
    "D_pays"
   ]
  },
  {
   "cell_type": "code",
   "execution_count": 18,
   "id": "51dec42f",
   "metadata": {},
   "outputs": [],
   "source": [
    "#Convertir ce dictionnaire au format JSON, \n",
    "import json"
   ]
  },
  {
   "cell_type": "code",
   "execution_count": 19,
   "id": "37f7c6e2",
   "metadata": {},
   "outputs": [
    {
     "data": {
      "text/plain": [
       "'{\"Pays1\": {\"Code_Pays\": \"AT\", \"Nom_Pays\": \"Autriche\", \"Langue\": \"Allemand\"}, \"Pays2\": {\"Code_Pays\": \"FR\", \"Nom_Pays\": \"France\", \"Langue\": \"Fran\\\\u00e7ais\"}, \"Pays3\": {\"Code_Pays\": \"MA\", \"Nom_Pays\": \"Maroc\", \"Langue\": \"Arabe\"}}'"
      ]
     },
     "execution_count": 19,
     "metadata": {},
     "output_type": "execute_result"
    }
   ],
   "source": [
    "#Transformer notre dictionnaire au format json\n",
    "json.dumps(D_pays)"
   ]
  },
  {
   "cell_type": "code",
   "execution_count": 22,
   "id": "933ab40f",
   "metadata": {},
   "outputs": [],
   "source": [
    "#enregistrer ce résultat dans un fichier, que nous appelerons ici \"pays.json\"\n",
    "with open('pays.json','w') as f:\n",
    "    f.write(json.dumps(D_pays))"
   ]
  },
  {
   "cell_type": "code",
   "execution_count": 23,
   "id": "4f70a3e3",
   "metadata": {},
   "outputs": [],
   "source": [
    "#Charger le contenu du fichier que nous venons de créer en le mettant directement dans une variable de type dictionnaire et \n",
    "#ceci en utilisant la foncrtion load:\n",
    "with open('pays.json','r')as f:\n",
    "    pays=json.load(f)"
   ]
  },
  {
   "cell_type": "code",
   "execution_count": 24,
   "id": "5a57140a",
   "metadata": {},
   "outputs": [
    {
     "data": {
      "text/plain": [
       "{'Pays1': {'Code_Pays': 'AT', 'Nom_Pays': 'Autriche', 'Langue': 'Allemand'},\n",
       " 'Pays2': {'Code_Pays': 'FR', 'Nom_Pays': 'France', 'Langue': 'Français'},\n",
       " 'Pays3': {'Code_Pays': 'MA', 'Nom_Pays': 'Maroc', 'Langue': 'Arabe'}}"
      ]
     },
     "execution_count": 24,
     "metadata": {},
     "output_type": "execute_result"
    }
   ],
   "source": [
    "pays"
   ]
  },
  {
   "cell_type": "code",
   "execution_count": 25,
   "id": "7e27fbac",
   "metadata": {},
   "outputs": [
    {
     "data": {
      "text/plain": [
       "dict"
      ]
     },
     "execution_count": 25,
     "metadata": {},
     "output_type": "execute_result"
    }
   ],
   "source": [
    "type(pays)"
   ]
  },
  {
   "cell_type": "code",
   "execution_count": 26,
   "id": "6474c796",
   "metadata": {},
   "outputs": [
    {
     "name": "stdout",
     "output_type": "stream",
     "text": [
      "{\"Pays1\": {\"Code_Pays\": \"AT\", \"Langue\": \"Allemand\", \"Nom_Pays\": \"Autriche\"}, \"Pays2\": {\"Code_Pays\": \"FR\", \"Langue\": \"Fran\\u00e7ais\", \"Nom_Pays\": \"France\"}, \"Pays3\": {\"Code_Pays\": \"MA\", \"Langue\": \"Arabe\", \"Nom_Pays\": \"Maroc\"}}\n"
     ]
    }
   ],
   "source": [
    "#tri selon l'ordre alphabétique des clés du dictionnaire,\n",
    "print(json.dumps(pays,sort_keys=True))"
   ]
  },
  {
   "cell_type": "code",
   "execution_count": null,
   "id": "4dddc0d7",
   "metadata": {},
   "outputs": [],
   "source": []
  }
 ],
 "metadata": {
  "kernelspec": {
   "display_name": "Python 3 (ipykernel)",
   "language": "python",
   "name": "python3"
  },
  "language_info": {
   "codemirror_mode": {
    "name": "ipython",
    "version": 3
   },
   "file_extension": ".py",
   "mimetype": "text/x-python",
   "name": "python",
   "nbconvert_exporter": "python",
   "pygments_lexer": "ipython3",
   "version": "3.10.9"
  }
 },
 "nbformat": 4,
 "nbformat_minor": 5
}
