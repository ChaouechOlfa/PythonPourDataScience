{
 "cells": [
  {
   "cell_type": "code",
   "execution_count": 1,
   "id": "ecd854ff",
   "metadata": {},
   "outputs": [],
   "source": [
    "#L'idée à travers l'utilisation des compréhensions et générateurs est de simplifier le code pour le rendre\n",
    "#plus rapide à écrire, plus simple et plus clair\n",
    "#Exp: on prend la liste vide que nous allons remplir avec des chiffres allant de 1 à 20. Ensuite l'idée est de sélectionner \n",
    "#uniquement les chiffres pairs\n",
    "liste=[]\n",
    "liste=range(20)"
   ]
  },
  {
   "cell_type": "code",
   "execution_count": 31,
   "id": "fa8441e8",
   "metadata": {},
   "outputs": [
    {
     "data": {
      "text/plain": [
       "range(0, 20)"
      ]
     },
     "execution_count": 31,
     "metadata": {},
     "output_type": "execute_result"
    }
   ],
   "source": [
    "liste"
   ]
  },
  {
   "cell_type": "code",
   "execution_count": 3,
   "id": "435948a5",
   "metadata": {},
   "outputs": [],
   "source": [
    "list1=[]\n",
    "for x in liste:\n",
    "    if x % 2==0:\n",
    "        list1.append(x)"
   ]
  },
  {
   "cell_type": "code",
   "execution_count": 30,
   "id": "5814efb4",
   "metadata": {},
   "outputs": [
    {
     "data": {
      "text/plain": [
       "[0, 2, 4, 6, 8, 10, 12, 14, 16, 18]"
      ]
     },
     "execution_count": 30,
     "metadata": {},
     "output_type": "execute_result"
    }
   ],
   "source": [
    "list1"
   ]
  },
  {
   "cell_type": "code",
   "execution_count": 34,
   "id": "e504e644",
   "metadata": {},
   "outputs": [],
   "source": [
    "#L'idée avec les compréhensions est d'obtenir le même resultat avec uniquement une ligne de code intuitive:\n",
    "list5=[x for x in liste if x % 2==0]"
   ]
  },
  {
   "cell_type": "code",
   "execution_count": 35,
   "id": "fa47d5c7",
   "metadata": {},
   "outputs": [
    {
     "data": {
      "text/plain": [
       "[0, 2, 4, 6, 8, 10, 12, 14, 16, 18]"
      ]
     },
     "execution_count": 35,
     "metadata": {},
     "output_type": "execute_result"
    }
   ],
   "source": [
    "list5"
   ]
  },
  {
   "cell_type": "code",
   "execution_count": 36,
   "id": "11f9a2fd",
   "metadata": {},
   "outputs": [
    {
     "name": "stdout",
     "output_type": "stream",
     "text": [
      "['0', '2', '4', '6', '8', '10', '12', '14', '16', '18']\n"
     ]
    }
   ],
   "source": [
    "#Les compréhensions permettent aussi d'exécuter une fonction donnée sur chaque item d'une liste\n",
    "#Exp: prenons l'exemple d'une conversion d'un entier en chaîne de caractères\n",
    "list5=[str(x) for x in list5]\n",
    "print(list5)"
   ]
  },
  {
   "cell_type": "code",
   "execution_count": 37,
   "id": "befeb655",
   "metadata": {},
   "outputs": [
    {
     "data": {
      "text/plain": [
       "list"
      ]
     },
     "execution_count": 37,
     "metadata": {},
     "output_type": "execute_result"
    }
   ],
   "source": [
    "type(list5)"
   ]
  },
  {
   "cell_type": "code",
   "execution_count": 38,
   "id": "d88a7de2",
   "metadata": {},
   "outputs": [
    {
     "name": "stdout",
     "output_type": "stream",
     "text": [
      "<class 'str'>\n"
     ]
    }
   ],
   "source": [
    "print(type(list5[2]))"
   ]
  },
  {
   "cell_type": "code",
   "execution_count": 18,
   "id": "a6273cc9",
   "metadata": {},
   "outputs": [],
   "source": [
    "liste3=['0', '2', '4', '6', '8', '10', '12', '14', '16', '18']"
   ]
  },
  {
   "cell_type": "code",
   "execution_count": 19,
   "id": "194fc6ad",
   "metadata": {},
   "outputs": [
    {
     "name": "stdout",
     "output_type": "stream",
     "text": [
      "<class 'str'>\n"
     ]
    }
   ],
   "source": [
    "print(type(liste3[2]))"
   ]
  },
  {
   "cell_type": "code",
   "execution_count": 22,
   "id": "fd27155f",
   "metadata": {},
   "outputs": [
    {
     "name": "stdout",
     "output_type": "stream",
     "text": [
      "<class 'str'>\n",
      "<class 'str'>\n",
      "<class 'str'>\n",
      "<class 'str'>\n",
      "<class 'str'>\n",
      "<class 'str'>\n",
      "<class 'str'>\n",
      "<class 'str'>\n",
      "<class 'str'>\n",
      "<class 'str'>\n"
     ]
    }
   ],
   "source": [
    "#Les compréhensions permettent aussi d'exécuter une fonction donnée sur chaque item d'une liste\n",
    "#Exp: prenons l'exemple d'une conversion d'un entier en chaîne de caractères\n",
    "res = [type(item) for item in liste3]\n",
    "for item in res:\n",
    "    print(item)"
   ]
  },
  {
   "cell_type": "code",
   "execution_count": 40,
   "id": "e13f23e4",
   "metadata": {},
   "outputs": [
    {
     "data": {
      "text/plain": [
       "{0: 0, 2: 4, 4: 8, 6: 12, 8: 16, 10: 20, 12: 24, 14: 28, 16: 32, 18: 36}"
      ]
     },
     "execution_count": 40,
     "metadata": {},
     "output_type": "execute_result"
    }
   ],
   "source": [
    "m2_dict={i:2*i for i in range(20) if i%2==0}\n",
    "m2_dict"
   ]
  },
  {
   "cell_type": "code",
   "execution_count": 42,
   "id": "6183d2bc",
   "metadata": {},
   "outputs": [],
   "source": [
    "equipe={'Benatia':'Juventus','Messi':'Barcelone','Pogba':'ManV'}"
   ]
  },
  {
   "cell_type": "code",
   "execution_count": 47,
   "id": "fb6470f6",
   "metadata": {},
   "outputs": [
    {
     "data": {
      "text/plain": [
       "{'Juventus': 'Benatia', 'Barcelone': 'Messi', 'ManV': 'Pogba'}"
      ]
     },
     "execution_count": 47,
     "metadata": {},
     "output_type": "execute_result"
    }
   ],
   "source": [
    "\"\"\"Prenons un exemple pour illustrer le processus :\n",
    "\n",
    "Lorsque nous itérons sur la première clé 'Benatia', nous avons equipe['Benatia'] qui est égal à 'Juventus'. Donc, la paire clé-valeur 'Juventus': 'Benatia' est ajoutée au dictionnaire equipe_joueur.\n",
    "De même, pour la clé 'Messi', nous avons equipe['Messi'] égal à 'Barcelone'. Ainsi, la paire clé-valeur 'Barcelone': 'Messi' est ajoutée au dictionnaire equipe_joueur.\n",
    "Pour la clé 'Pogba', nous avons equipe['Pogba'] égal à 'ManV'. Par conséquent, la paire clé-valeur 'ManV': 'Pogba' est ajoutée au dictionnaire equipe_joueur.\n",
    "Le processus se poursuit pour chaque clé dans le dictionnaire equipe, inversant les clés et les valeurs dans le nouveau dictionnaire equipe_joueur.\"\"\"\n",
    "equipe_joueur={equipe[key]:key for key in equipe}\n",
    "equipe_joueur"
   ]
  },
  {
   "cell_type": "code",
   "execution_count": 48,
   "id": "9b2e05bc",
   "metadata": {},
   "outputs": [
    {
     "data": {
      "text/plain": [
       "90"
      ]
     },
     "execution_count": 48,
     "metadata": {},
     "output_type": "execute_result"
    }
   ],
   "source": [
    "#Les générateurs\n",
    "\"\"\"La différence par rapport aux compréhension ce que au lieu des crochets, nous utilisons à la place des parenthèses\"\"\"\n",
    "L=[i*2 for i in range(10)]\n",
    "sum(L)"
   ]
  },
  {
   "cell_type": "code",
   "execution_count": 50,
   "id": "e6f32054",
   "metadata": {},
   "outputs": [
    {
     "data": {
      "text/plain": [
       "90"
      ]
     },
     "execution_count": 50,
     "metadata": {},
     "output_type": "execute_result"
    }
   ],
   "source": [
    "#Générateur\n",
    "g=(i*2 for i in range(10))\n",
    "g\n",
    "sum(g)"
   ]
  },
  {
   "cell_type": "code",
   "execution_count": null,
   "id": "3a47b73c",
   "metadata": {},
   "outputs": [],
   "source": []
  }
 ],
 "metadata": {
  "kernelspec": {
   "display_name": "Python 3 (ipykernel)",
   "language": "python",
   "name": "python3"
  },
  "language_info": {
   "codemirror_mode": {
    "name": "ipython",
    "version": 3
   },
   "file_extension": ".py",
   "mimetype": "text/x-python",
   "name": "python",
   "nbconvert_exporter": "python",
   "pygments_lexer": "ipython3",
   "version": "3.10.9"
  }
 },
 "nbformat": 4,
 "nbformat_minor": 5
}
