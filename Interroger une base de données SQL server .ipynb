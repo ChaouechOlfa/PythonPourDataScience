{
 "cells": [
  {
   "cell_type": "code",
   "execution_count": 51,
   "id": "9f9751d6",
   "metadata": {},
   "outputs": [],
   "source": [
    "import numpy as np\n",
    "import pandas as pd\n",
    "import pyodbc"
   ]
  },
  {
   "cell_type": "code",
   "execution_count": 47,
   "id": "b16641e7",
   "metadata": {},
   "outputs": [],
   "source": [
    "\n",
    "conn = pyodbc.connect(\n",
    "    \"Driver={SQL Server};\"\n",
    "    \"Server=LAPTOP-L9SB4QLJ;\"\n",
    "    \"Database=irissql;\"\n",
    "    \"Trusted_Connection=yes;\"\n",
    ")"
   ]
  },
  {
   "cell_type": "code",
   "execution_count": 43,
   "id": "dace01a6",
   "metadata": {},
   "outputs": [
    {
     "name": "stdout",
     "output_type": "stream",
     "text": [
      "mssql+pyodbc://LAPTOP-L9SB4QLJ%5Cchaou@LAPTOP-L9SB4QLJ/irissql?driver=SQL Server\n"
     ]
    }
   ],
   "source": [
    "#Pour trouver MSSQL URL\n",
    "from urllib.parse import quote_plus\n",
    "\n",
    "# Database connection details\n",
    "server = 'LAPTOP-L9SB4QLJ'\n",
    "database = 'irissql'\n",
    "username = 'LAPTOP-L9SB4QLJ\\chaou'\n",
    "password = ''\n",
    "\n",
    "# Construct the MSSQL connection URL\n",
    "if password == '':\n",
    "    url = f'mssql+pyodbc://{quote_plus(username)}@{server}/{database}?driver=SQL Server'\n",
    "else:\n",
    "    url = f'mssql+pyodbc://{quote_plus(username)}:{quote_plus(password)}@{server}/{database}?driver=SQL Server'\n",
    "\n",
    "# Print the connection URL\n",
    "print(url)\n"
   ]
  },
  {
   "cell_type": "code",
   "execution_count": null,
   "id": "6d69ee2a",
   "metadata": {},
   "outputs": [],
   "source": [
    "from sqlalchemy import create_engine"
   ]
  },
  {
   "cell_type": "code",
   "execution_count": null,
   "id": "6a5c418a",
   "metadata": {},
   "outputs": [],
   "source": [
    "# Create an SQLAlchemy engine\n",
    "engine = create_engine('mssql+pyodbc://LAPTOP-L9SB4QLJ%5Cchaou@LAPTOP-L9SB4QLJ/irissql?driver=SQL+Server')"
   ]
  },
  {
   "cell_type": "code",
   "execution_count": null,
   "id": "3c0e4f89",
   "metadata": {},
   "outputs": [],
   "source": [
    "import pandas as pd\n",
    "from sqlalchemy import create_engine\n",
    "\n",
    "# Create an SQLAlchemy engine\n",
    "engine = create_engine('mssql+pyodbc://LAPTOP-L9SB4QLJ%5Cchaou@LAPTOP-L9SB4QLJ/irissql?driver=SQL+Server')"
   ]
  },
  {
   "cell_type": "code",
   "execution_count": null,
   "id": "8acddc05",
   "metadata": {},
   "outputs": [],
   "source": [
    "# Use the engine to read data from the database\n",
    "T = pd.read_sql(requête, engine)"
   ]
  },
  {
   "cell_type": "code",
   "execution_count": 49,
   "id": "dfd1e2c5",
   "metadata": {},
   "outputs": [
    {
     "data": {
      "text/html": [
       "<div>\n",
       "<style scoped>\n",
       "    .dataframe tbody tr th:only-of-type {\n",
       "        vertical-align: middle;\n",
       "    }\n",
       "\n",
       "    .dataframe tbody tr th {\n",
       "        vertical-align: top;\n",
       "    }\n",
       "\n",
       "    .dataframe thead th {\n",
       "        text-align: right;\n",
       "    }\n",
       "</style>\n",
       "<table border=\"1\" class=\"dataframe\">\n",
       "  <thead>\n",
       "    <tr style=\"text-align: right;\">\n",
       "      <th></th>\n",
       "      <th>Sépales.Longueur</th>\n",
       "      <th>EspècesId</th>\n",
       "    </tr>\n",
       "  </thead>\n",
       "  <tbody>\n",
       "    <tr>\n",
       "      <th>0</th>\n",
       "      <td>5.1</td>\n",
       "      <td>0.0</td>\n",
       "    </tr>\n",
       "    <tr>\n",
       "      <th>1</th>\n",
       "      <td>4.9</td>\n",
       "      <td>0.0</td>\n",
       "    </tr>\n",
       "    <tr>\n",
       "      <th>2</th>\n",
       "      <td>4.7</td>\n",
       "      <td>0.0</td>\n",
       "    </tr>\n",
       "    <tr>\n",
       "      <th>3</th>\n",
       "      <td>4.6</td>\n",
       "      <td>0.0</td>\n",
       "    </tr>\n",
       "    <tr>\n",
       "      <th>4</th>\n",
       "      <td>5.0</td>\n",
       "      <td>0.0</td>\n",
       "    </tr>\n",
       "  </tbody>\n",
       "</table>\n",
       "</div>"
      ],
      "text/plain": [
       "   Sépales.Longueur  EspècesId\n",
       "0               5.1        0.0\n",
       "1               4.9        0.0\n",
       "2               4.7        0.0\n",
       "3               4.6        0.0\n",
       "4               5.0        0.0"
      ]
     },
     "execution_count": 49,
     "metadata": {},
     "output_type": "execute_result"
    }
   ],
   "source": [
    "#Nous pouvons désormais voir à quoi ressemblent les élément de notre variable\n",
    "T.head()"
   ]
  },
  {
   "cell_type": "code",
   "execution_count": 50,
   "id": "4251e88d",
   "metadata": {},
   "outputs": [
    {
     "data": {
      "text/plain": [
       "(5, 2)"
      ]
     },
     "execution_count": 50,
     "metadata": {},
     "output_type": "execute_result"
    }
   ],
   "source": [
    "T.shape"
   ]
  },
  {
   "cell_type": "code",
   "execution_count": 52,
   "id": "71069aa6",
   "metadata": {},
   "outputs": [],
   "source": [
    "#Concaténer différentes sources de données\n",
    "ar1=np.arange(2,20,2).reshape(3,3)\n"
   ]
  },
  {
   "cell_type": "code",
   "execution_count": 53,
   "id": "d78bfeea",
   "metadata": {},
   "outputs": [
    {
     "data": {
      "text/plain": [
       "numpy.ndarray"
      ]
     },
     "execution_count": 53,
     "metadata": {},
     "output_type": "execute_result"
    }
   ],
   "source": [
    "type(ar1)"
   ]
  },
  {
   "cell_type": "code",
   "execution_count": 56,
   "id": "4d6b6f7b",
   "metadata": {},
   "outputs": [
    {
     "data": {
      "text/plain": [
       "array([[ 3,  5,  7],\n",
       "       [ 9, 11, 13],\n",
       "       [15, 17, 19]])"
      ]
     },
     "execution_count": 56,
     "metadata": {},
     "output_type": "execute_result"
    }
   ],
   "source": [
    "ar2=ar1+1\n",
    "ar2"
   ]
  },
  {
   "cell_type": "code",
   "execution_count": 55,
   "id": "de6c44d1",
   "metadata": {},
   "outputs": [
    {
     "data": {
      "text/plain": [
       "array([[ 2,  4,  6],\n",
       "       [ 8, 10, 12],\n",
       "       [14, 16, 18],\n",
       "       [ 3,  5,  7],\n",
       "       [ 9, 11, 13],\n",
       "       [15, 17, 19]])"
      ]
     },
     "execution_count": 55,
     "metadata": {},
     "output_type": "execute_result"
    }
   ],
   "source": [
    "np.concatenate([ar1,ar2])"
   ]
  },
  {
   "cell_type": "code",
   "execution_count": 57,
   "id": "405e8790",
   "metadata": {},
   "outputs": [
    {
     "data": {
      "text/plain": [
       "array([[ 2,  4,  6,  3,  5,  7],\n",
       "       [ 8, 10, 12,  9, 11, 13],\n",
       "       [14, 16, 18, 15, 17, 19]])"
      ]
     },
     "execution_count": 57,
     "metadata": {},
     "output_type": "execute_result"
    }
   ],
   "source": [
    "#Nous pouvons aussi appliquer la concaténation selon l'axe 1\n",
    "np.concatenate([ar1,ar2],axis=1)"
   ]
  },
  {
   "cell_type": "code",
   "execution_count": 60,
   "id": "f33d26ab",
   "metadata": {},
   "outputs": [],
   "source": [
    "#concaténation avec pandas\n",
    "ser1=pd.Series(np.random.rand(3),index=[1,2,3])\n",
    "ser2=pd.Series(np.random.rand(3),index=[4,5,6])\n"
   ]
  },
  {
   "cell_type": "code",
   "execution_count": 61,
   "id": "16cd340b",
   "metadata": {},
   "outputs": [
    {
     "data": {
      "text/plain": [
       "1    0.963970\n",
       "2    0.120084\n",
       "3    0.189965\n",
       "4    0.724551\n",
       "5    0.765673\n",
       "6    0.936538\n",
       "dtype: float64"
      ]
     },
     "execution_count": 61,
     "metadata": {},
     "output_type": "execute_result"
    }
   ],
   "source": [
    "pd.concat([ser1,ser2])"
   ]
  },
  {
   "cell_type": "code",
   "execution_count": 62,
   "id": "9571e04c",
   "metadata": {},
   "outputs": [
    {
     "data": {
      "text/html": [
       "<div>\n",
       "<style scoped>\n",
       "    .dataframe tbody tr th:only-of-type {\n",
       "        vertical-align: middle;\n",
       "    }\n",
       "\n",
       "    .dataframe tbody tr th {\n",
       "        vertical-align: top;\n",
       "    }\n",
       "\n",
       "    .dataframe thead th {\n",
       "        text-align: right;\n",
       "    }\n",
       "</style>\n",
       "<table border=\"1\" class=\"dataframe\">\n",
       "  <thead>\n",
       "    <tr style=\"text-align: right;\">\n",
       "      <th></th>\n",
       "      <th>0</th>\n",
       "      <th>1</th>\n",
       "    </tr>\n",
       "  </thead>\n",
       "  <tbody>\n",
       "    <tr>\n",
       "      <th>1</th>\n",
       "      <td>0.963970</td>\n",
       "      <td>NaN</td>\n",
       "    </tr>\n",
       "    <tr>\n",
       "      <th>2</th>\n",
       "      <td>0.120084</td>\n",
       "      <td>NaN</td>\n",
       "    </tr>\n",
       "    <tr>\n",
       "      <th>3</th>\n",
       "      <td>0.189965</td>\n",
       "      <td>NaN</td>\n",
       "    </tr>\n",
       "    <tr>\n",
       "      <th>4</th>\n",
       "      <td>NaN</td>\n",
       "      <td>0.724551</td>\n",
       "    </tr>\n",
       "    <tr>\n",
       "      <th>5</th>\n",
       "      <td>NaN</td>\n",
       "      <td>0.765673</td>\n",
       "    </tr>\n",
       "    <tr>\n",
       "      <th>6</th>\n",
       "      <td>NaN</td>\n",
       "      <td>0.936538</td>\n",
       "    </tr>\n",
       "  </tbody>\n",
       "</table>\n",
       "</div>"
      ],
      "text/plain": [
       "          0         1\n",
       "1  0.963970       NaN\n",
       "2  0.120084       NaN\n",
       "3  0.189965       NaN\n",
       "4       NaN  0.724551\n",
       "5       NaN  0.765673\n",
       "6       NaN  0.936538"
      ]
     },
     "execution_count": 62,
     "metadata": {},
     "output_type": "execute_result"
    }
   ],
   "source": [
    "#Concaténation selon l'axe 1\n",
    "pd.concat([ser1,ser2],axis=1)"
   ]
  },
  {
   "cell_type": "code",
   "execution_count": 68,
   "id": "dd6e4095",
   "metadata": {},
   "outputs": [],
   "source": [
    "#Fusionner différentes sources de données\n",
    "df1=pd.DataFrame({'salarié':['Eric','Hapsa','Elise','Xin'],'groupe':['Technicien','Ingénieur','Ingénieur','Technicien']})\n",
    "df2=pd.DataFrame({'salarié':['Hapsa','Elise','Eric','Xin'],'data_embauche':[2001,1988,2012,2016]})"
   ]
  },
  {
   "cell_type": "code",
   "execution_count": 71,
   "id": "54c75e3d",
   "metadata": {},
   "outputs": [],
   "source": [
    "df3=pd.merge(df1,df2)"
   ]
  },
  {
   "cell_type": "code",
   "execution_count": 72,
   "id": "053a32a3",
   "metadata": {},
   "outputs": [
    {
     "data": {
      "text/html": [
       "<div>\n",
       "<style scoped>\n",
       "    .dataframe tbody tr th:only-of-type {\n",
       "        vertical-align: middle;\n",
       "    }\n",
       "\n",
       "    .dataframe tbody tr th {\n",
       "        vertical-align: top;\n",
       "    }\n",
       "\n",
       "    .dataframe thead th {\n",
       "        text-align: right;\n",
       "    }\n",
       "</style>\n",
       "<table border=\"1\" class=\"dataframe\">\n",
       "  <thead>\n",
       "    <tr style=\"text-align: right;\">\n",
       "      <th></th>\n",
       "      <th>salarié</th>\n",
       "      <th>groupe</th>\n",
       "      <th>data_embauche</th>\n",
       "    </tr>\n",
       "  </thead>\n",
       "  <tbody>\n",
       "    <tr>\n",
       "      <th>0</th>\n",
       "      <td>Eric</td>\n",
       "      <td>Technicien</td>\n",
       "      <td>2012</td>\n",
       "    </tr>\n",
       "    <tr>\n",
       "      <th>1</th>\n",
       "      <td>Hapsa</td>\n",
       "      <td>Ingénieur</td>\n",
       "      <td>2001</td>\n",
       "    </tr>\n",
       "    <tr>\n",
       "      <th>2</th>\n",
       "      <td>Elise</td>\n",
       "      <td>Ingénieur</td>\n",
       "      <td>1988</td>\n",
       "    </tr>\n",
       "    <tr>\n",
       "      <th>3</th>\n",
       "      <td>Xin</td>\n",
       "      <td>Technicien</td>\n",
       "      <td>2016</td>\n",
       "    </tr>\n",
       "  </tbody>\n",
       "</table>\n",
       "</div>"
      ],
      "text/plain": [
       "  salarié      groupe  data_embauche\n",
       "0    Eric  Technicien           2012\n",
       "1   Hapsa   Ingénieur           2001\n",
       "2   Elise   Ingénieur           1988\n",
       "3     Xin  Technicien           2016"
      ]
     },
     "execution_count": 72,
     "metadata": {},
     "output_type": "execute_result"
    }
   ],
   "source": [
    "df3"
   ]
  },
  {
   "cell_type": "code",
   "execution_count": 73,
   "id": "081aef49",
   "metadata": {},
   "outputs": [],
   "source": [
    "df4=pd.DataFrame({'groupe':['Technicien','Ingénieur'],'Superviseur':['Carlos','Amine']})"
   ]
  },
  {
   "cell_type": "code",
   "execution_count": 74,
   "id": "cbbd648e",
   "metadata": {},
   "outputs": [
    {
     "name": "stdout",
     "output_type": "stream",
     "text": [
      "  salarié      groupe  data_embauche Superviseur\n",
      "0    Eric  Technicien           2012      Carlos\n",
      "1     Xin  Technicien           2016      Carlos\n",
      "2   Hapsa   Ingénieur           2001       Amine\n",
      "3   Elise   Ingénieur           1988       Amine\n"
     ]
    }
   ],
   "source": [
    "print(pd.merge(df3,df4))"
   ]
  },
  {
   "cell_type": "code",
   "execution_count": 76,
   "id": "3ef2a391",
   "metadata": {},
   "outputs": [],
   "source": [
    "df5=pd.DataFrame({'groupe':['Technicien','Technicien','Ingénieur','Ingénieur'],'compétences':['tableurs','maintenance','tableurs','recherche opérationnelle']})"
   ]
  },
  {
   "cell_type": "code",
   "execution_count": 77,
   "id": "9d4db96a",
   "metadata": {},
   "outputs": [
    {
     "name": "stdout",
     "output_type": "stream",
     "text": [
      "  salarié      groupe  data_embauche               compétences\n",
      "0    Eric  Technicien           2012                  tableurs\n",
      "1    Eric  Technicien           2012               maintenance\n",
      "2     Xin  Technicien           2016                  tableurs\n",
      "3     Xin  Technicien           2016               maintenance\n",
      "4   Hapsa   Ingénieur           2001                  tableurs\n",
      "5   Hapsa   Ingénieur           2001  recherche opérationnelle\n",
      "6   Elise   Ingénieur           1988                  tableurs\n",
      "7   Elise   Ingénieur           1988  recherche opérationnelle\n"
     ]
    }
   ],
   "source": [
    "print(pd.merge(df3,df5))"
   ]
  },
  {
   "cell_type": "code",
   "execution_count": 78,
   "id": "5cd1a1a2",
   "metadata": {},
   "outputs": [],
   "source": [
    "df6=pd.DataFrame({'Nom':['Hapsa','Elise','Xin','Amine'],'Salaire':[90000,100000,80000,100000]})"
   ]
  },
  {
   "cell_type": "code",
   "execution_count": 83,
   "id": "a15e4537",
   "metadata": {},
   "outputs": [
    {
     "name": "stdout",
     "output_type": "stream",
     "text": [
      "  salarié      groupe  data_embauche    Nom  Salaire\n",
      "0   Hapsa   Ingénieur           2001  Hapsa    90000\n",
      "1   Elise   Ingénieur           1988  Elise   100000\n",
      "2     Xin  Technicien           2016    Xin    80000\n"
     ]
    }
   ],
   "source": [
    "#Utiliser les fonctions left_on et right_on\n",
    "print(pd.merge(df3,df6, left_on='salarié', right_on='Nom'))"
   ]
  },
  {
   "cell_type": "code",
   "execution_count": 87,
   "id": "1aac7427",
   "metadata": {},
   "outputs": [],
   "source": [
    "#Supprimer la redondance\n",
    "df7=pd.merge(df3,df6,left_on='salarié',right_on='Nom').drop('Nom',axis=1)"
   ]
  },
  {
   "cell_type": "code",
   "execution_count": 88,
   "id": "b048cc17",
   "metadata": {},
   "outputs": [
    {
     "data": {
      "text/html": [
       "<div>\n",
       "<style scoped>\n",
       "    .dataframe tbody tr th:only-of-type {\n",
       "        vertical-align: middle;\n",
       "    }\n",
       "\n",
       "    .dataframe tbody tr th {\n",
       "        vertical-align: top;\n",
       "    }\n",
       "\n",
       "    .dataframe thead th {\n",
       "        text-align: right;\n",
       "    }\n",
       "</style>\n",
       "<table border=\"1\" class=\"dataframe\">\n",
       "  <thead>\n",
       "    <tr style=\"text-align: right;\">\n",
       "      <th></th>\n",
       "      <th>salarié</th>\n",
       "      <th>groupe</th>\n",
       "      <th>data_embauche</th>\n",
       "      <th>Salaire</th>\n",
       "    </tr>\n",
       "  </thead>\n",
       "  <tbody>\n",
       "    <tr>\n",
       "      <th>0</th>\n",
       "      <td>Hapsa</td>\n",
       "      <td>Ingénieur</td>\n",
       "      <td>2001</td>\n",
       "      <td>90000</td>\n",
       "    </tr>\n",
       "    <tr>\n",
       "      <th>1</th>\n",
       "      <td>Elise</td>\n",
       "      <td>Ingénieur</td>\n",
       "      <td>1988</td>\n",
       "      <td>100000</td>\n",
       "    </tr>\n",
       "    <tr>\n",
       "      <th>2</th>\n",
       "      <td>Xin</td>\n",
       "      <td>Technicien</td>\n",
       "      <td>2016</td>\n",
       "      <td>80000</td>\n",
       "    </tr>\n",
       "  </tbody>\n",
       "</table>\n",
       "</div>"
      ],
      "text/plain": [
       "  salarié      groupe  data_embauche  Salaire\n",
       "0   Hapsa   Ingénieur           2001    90000\n",
       "1   Elise   Ingénieur           1988   100000\n",
       "2     Xin  Technicien           2016    80000"
      ]
     },
     "execution_count": 88,
     "metadata": {},
     "output_type": "execute_result"
    }
   ],
   "source": [
    "df7"
   ]
  },
  {
   "cell_type": "code",
   "execution_count": 89,
   "id": "8da335ba",
   "metadata": {},
   "outputs": [
    {
     "data": {
      "text/html": [
       "<div>\n",
       "<style scoped>\n",
       "    .dataframe tbody tr th:only-of-type {\n",
       "        vertical-align: middle;\n",
       "    }\n",
       "\n",
       "    .dataframe tbody tr th {\n",
       "        vertical-align: top;\n",
       "    }\n",
       "\n",
       "    .dataframe thead th {\n",
       "        text-align: right;\n",
       "    }\n",
       "</style>\n",
       "<table border=\"1\" class=\"dataframe\">\n",
       "  <thead>\n",
       "    <tr style=\"text-align: right;\">\n",
       "      <th></th>\n",
       "      <th>salarié</th>\n",
       "      <th>groupe</th>\n",
       "      <th>data_embauche</th>\n",
       "      <th>Salaire</th>\n",
       "    </tr>\n",
       "  </thead>\n",
       "  <tbody>\n",
       "    <tr>\n",
       "      <th>0</th>\n",
       "      <td>Eric</td>\n",
       "      <td>Technicien</td>\n",
       "      <td>2012.0</td>\n",
       "      <td>NaN</td>\n",
       "    </tr>\n",
       "    <tr>\n",
       "      <th>1</th>\n",
       "      <td>Hapsa</td>\n",
       "      <td>Ingénieur</td>\n",
       "      <td>2001.0</td>\n",
       "      <td>90000.0</td>\n",
       "    </tr>\n",
       "    <tr>\n",
       "      <th>2</th>\n",
       "      <td>Elise</td>\n",
       "      <td>Ingénieur</td>\n",
       "      <td>1988.0</td>\n",
       "      <td>100000.0</td>\n",
       "    </tr>\n",
       "    <tr>\n",
       "      <th>3</th>\n",
       "      <td>Xin</td>\n",
       "      <td>Technicien</td>\n",
       "      <td>2016.0</td>\n",
       "      <td>80000.0</td>\n",
       "    </tr>\n",
       "    <tr>\n",
       "      <th>4</th>\n",
       "      <td>NaN</td>\n",
       "      <td>NaN</td>\n",
       "      <td>NaN</td>\n",
       "      <td>100000.0</td>\n",
       "    </tr>\n",
       "  </tbody>\n",
       "</table>\n",
       "</div>"
      ],
      "text/plain": [
       "  salarié      groupe  data_embauche   Salaire\n",
       "0    Eric  Technicien         2012.0       NaN\n",
       "1   Hapsa   Ingénieur         2001.0   90000.0\n",
       "2   Elise   Ingénieur         1988.0  100000.0\n",
       "3     Xin  Technicien         2016.0   80000.0\n",
       "4     NaN         NaN            NaN  100000.0"
      ]
     },
     "execution_count": 89,
     "metadata": {},
     "output_type": "execute_result"
    }
   ],
   "source": [
    "#Réliser une jointure\n",
    "pd.merge(df3,df6,left_on='salarié',right_on='Nom',how='outer').drop('Nom',axis=1)"
   ]
  },
  {
   "cell_type": "code",
   "execution_count": 90,
   "id": "0074dc51",
   "metadata": {},
   "outputs": [
    {
     "data": {
      "text/html": [
       "<div>\n",
       "<style scoped>\n",
       "    .dataframe tbody tr th:only-of-type {\n",
       "        vertical-align: middle;\n",
       "    }\n",
       "\n",
       "    .dataframe tbody tr th {\n",
       "        vertical-align: top;\n",
       "    }\n",
       "\n",
       "    .dataframe thead th {\n",
       "        text-align: right;\n",
       "    }\n",
       "</style>\n",
       "<table border=\"1\" class=\"dataframe\">\n",
       "  <thead>\n",
       "    <tr style=\"text-align: right;\">\n",
       "      <th></th>\n",
       "      <th>salarié</th>\n",
       "      <th>groupe</th>\n",
       "      <th>data_embauche</th>\n",
       "      <th>Salaire</th>\n",
       "    </tr>\n",
       "  </thead>\n",
       "  <tbody>\n",
       "    <tr>\n",
       "      <th>0</th>\n",
       "      <td>Eric</td>\n",
       "      <td>Technicien</td>\n",
       "      <td>2012</td>\n",
       "      <td>NaN</td>\n",
       "    </tr>\n",
       "    <tr>\n",
       "      <th>1</th>\n",
       "      <td>Hapsa</td>\n",
       "      <td>Ingénieur</td>\n",
       "      <td>2001</td>\n",
       "      <td>90000.0</td>\n",
       "    </tr>\n",
       "    <tr>\n",
       "      <th>2</th>\n",
       "      <td>Elise</td>\n",
       "      <td>Ingénieur</td>\n",
       "      <td>1988</td>\n",
       "      <td>100000.0</td>\n",
       "    </tr>\n",
       "    <tr>\n",
       "      <th>3</th>\n",
       "      <td>Xin</td>\n",
       "      <td>Technicien</td>\n",
       "      <td>2016</td>\n",
       "      <td>80000.0</td>\n",
       "    </tr>\n",
       "  </tbody>\n",
       "</table>\n",
       "</div>"
      ],
      "text/plain": [
       "  salarié      groupe  data_embauche   Salaire\n",
       "0    Eric  Technicien           2012       NaN\n",
       "1   Hapsa   Ingénieur           2001   90000.0\n",
       "2   Elise   Ingénieur           1988  100000.0\n",
       "3     Xin  Technicien           2016   80000.0"
      ]
     },
     "execution_count": 90,
     "metadata": {},
     "output_type": "execute_result"
    }
   ],
   "source": [
    "#Réaliser une jointure à gauche \n",
    "pd.merge(df3,df6,left_on='salarié',right_on='Nom',how='left').drop('Nom',axis=1)"
   ]
  },
  {
   "cell_type": "code",
   "execution_count": 92,
   "id": "b7d6227b",
   "metadata": {},
   "outputs": [
    {
     "data": {
      "text/html": [
       "<div>\n",
       "<style scoped>\n",
       "    .dataframe tbody tr th:only-of-type {\n",
       "        vertical-align: middle;\n",
       "    }\n",
       "\n",
       "    .dataframe tbody tr th {\n",
       "        vertical-align: top;\n",
       "    }\n",
       "\n",
       "    .dataframe thead th {\n",
       "        text-align: right;\n",
       "    }\n",
       "</style>\n",
       "<table border=\"1\" class=\"dataframe\">\n",
       "  <thead>\n",
       "    <tr style=\"text-align: right;\">\n",
       "      <th></th>\n",
       "      <th>salarié</th>\n",
       "      <th>groupe</th>\n",
       "      <th>data_embauche</th>\n",
       "      <th>Salaire</th>\n",
       "    </tr>\n",
       "  </thead>\n",
       "  <tbody>\n",
       "    <tr>\n",
       "      <th>0</th>\n",
       "      <td>Hapsa</td>\n",
       "      <td>Ingénieur</td>\n",
       "      <td>2001.0</td>\n",
       "      <td>90000</td>\n",
       "    </tr>\n",
       "    <tr>\n",
       "      <th>1</th>\n",
       "      <td>Elise</td>\n",
       "      <td>Ingénieur</td>\n",
       "      <td>1988.0</td>\n",
       "      <td>100000</td>\n",
       "    </tr>\n",
       "    <tr>\n",
       "      <th>2</th>\n",
       "      <td>Xin</td>\n",
       "      <td>Technicien</td>\n",
       "      <td>2016.0</td>\n",
       "      <td>80000</td>\n",
       "    </tr>\n",
       "    <tr>\n",
       "      <th>3</th>\n",
       "      <td>NaN</td>\n",
       "      <td>NaN</td>\n",
       "      <td>NaN</td>\n",
       "      <td>100000</td>\n",
       "    </tr>\n",
       "  </tbody>\n",
       "</table>\n",
       "</div>"
      ],
      "text/plain": [
       "  salarié      groupe  data_embauche  Salaire\n",
       "0   Hapsa   Ingénieur         2001.0    90000\n",
       "1   Elise   Ingénieur         1988.0   100000\n",
       "2     Xin  Technicien         2016.0    80000\n",
       "3     NaN         NaN            NaN   100000"
      ]
     },
     "execution_count": 92,
     "metadata": {},
     "output_type": "execute_result"
    }
   ],
   "source": [
    "#Réaliser une jointure à droite\n",
    "pd.merge(df3,df6,left_on='salarié',right_on='Nom',how='right').drop('Nom',axis=1)"
   ]
  },
  {
   "cell_type": "code",
   "execution_count": 93,
   "id": "1bf9e45f",
   "metadata": {},
   "outputs": [],
   "source": [
    "\"\"\"Parfois, ça arrive que deux dataframe aient un conflit dans le sens où il y a le même nom de colonnes mais \n",
    "les données désignent des éléments différents. L'option suffix permet alos de faire face à cela.\n",
    "Regardons de suite un exemple, On considère DF8, en prenant les colonnes salarié et classement.\n",
    "\"\"\"\n",
    "df8=pd.DataFrame({'Salarié':['Eric','Hapsa','Elise','Xin'],'Classement':[4,1,2,3]})\n",
    "df9=pd.DataFrame({'Salarié':['Eric','Hapsa','Elise','Xin'],'Classement':[4,1,3,2]})"
   ]
  },
  {
   "cell_type": "code",
   "execution_count": 94,
   "id": "a3435647",
   "metadata": {},
   "outputs": [
    {
     "data": {
      "text/html": [
       "<div>\n",
       "<style scoped>\n",
       "    .dataframe tbody tr th:only-of-type {\n",
       "        vertical-align: middle;\n",
       "    }\n",
       "\n",
       "    .dataframe tbody tr th {\n",
       "        vertical-align: top;\n",
       "    }\n",
       "\n",
       "    .dataframe thead th {\n",
       "        text-align: right;\n",
       "    }\n",
       "</style>\n",
       "<table border=\"1\" class=\"dataframe\">\n",
       "  <thead>\n",
       "    <tr style=\"text-align: right;\">\n",
       "      <th></th>\n",
       "      <th>Salarié</th>\n",
       "      <th>Classement_x</th>\n",
       "      <th>Classement_y</th>\n",
       "    </tr>\n",
       "  </thead>\n",
       "  <tbody>\n",
       "    <tr>\n",
       "      <th>0</th>\n",
       "      <td>Eric</td>\n",
       "      <td>4</td>\n",
       "      <td>4</td>\n",
       "    </tr>\n",
       "    <tr>\n",
       "      <th>1</th>\n",
       "      <td>Hapsa</td>\n",
       "      <td>1</td>\n",
       "      <td>1</td>\n",
       "    </tr>\n",
       "    <tr>\n",
       "      <th>2</th>\n",
       "      <td>Elise</td>\n",
       "      <td>2</td>\n",
       "      <td>3</td>\n",
       "    </tr>\n",
       "    <tr>\n",
       "      <th>3</th>\n",
       "      <td>Xin</td>\n",
       "      <td>3</td>\n",
       "      <td>2</td>\n",
       "    </tr>\n",
       "  </tbody>\n",
       "</table>\n",
       "</div>"
      ],
      "text/plain": [
       "  Salarié  Classement_x  Classement_y\n",
       "0    Eric             4             4\n",
       "1   Hapsa             1             1\n",
       "2   Elise             2             3\n",
       "3     Xin             3             2"
      ]
     },
     "execution_count": 94,
     "metadata": {},
     "output_type": "execute_result"
    }
   ],
   "source": [
    "\"\"\"Sauf qu'ici le classement peut être par exemple, sur des mois différents ou des années différentes.\n",
    "Nous utilisons alors la fonction merge, mais en précisnat cette fois-ci, que la clé c'est bien Salarié\"\"\"\n",
    "pd.merge(df8,df9,on='Salarié')\n"
   ]
  },
  {
   "cell_type": "code",
   "execution_count": 96,
   "id": "a8c895f6",
   "metadata": {},
   "outputs": [
    {
     "data": {
      "text/html": [
       "<div>\n",
       "<style scoped>\n",
       "    .dataframe tbody tr th:only-of-type {\n",
       "        vertical-align: middle;\n",
       "    }\n",
       "\n",
       "    .dataframe tbody tr th {\n",
       "        vertical-align: top;\n",
       "    }\n",
       "\n",
       "    .dataframe thead th {\n",
       "        text-align: right;\n",
       "    }\n",
       "</style>\n",
       "<table border=\"1\" class=\"dataframe\">\n",
       "  <thead>\n",
       "    <tr style=\"text-align: right;\">\n",
       "      <th></th>\n",
       "      <th>Salarié</th>\n",
       "      <th>ClassementNovembre</th>\n",
       "      <th>ClassementDecembre</th>\n",
       "    </tr>\n",
       "  </thead>\n",
       "  <tbody>\n",
       "    <tr>\n",
       "      <th>0</th>\n",
       "      <td>Eric</td>\n",
       "      <td>4</td>\n",
       "      <td>4</td>\n",
       "    </tr>\n",
       "    <tr>\n",
       "      <th>1</th>\n",
       "      <td>Hapsa</td>\n",
       "      <td>1</td>\n",
       "      <td>1</td>\n",
       "    </tr>\n",
       "    <tr>\n",
       "      <th>2</th>\n",
       "      <td>Elise</td>\n",
       "      <td>2</td>\n",
       "      <td>3</td>\n",
       "    </tr>\n",
       "    <tr>\n",
       "      <th>3</th>\n",
       "      <td>Xin</td>\n",
       "      <td>3</td>\n",
       "      <td>2</td>\n",
       "    </tr>\n",
       "  </tbody>\n",
       "</table>\n",
       "</div>"
      ],
      "text/plain": [
       "  Salarié  ClassementNovembre  ClassementDecembre\n",
       "0    Eric                   4                   4\n",
       "1   Hapsa                   1                   1\n",
       "2   Elise                   2                   3\n",
       "3     Xin                   3                   2"
      ]
     },
     "execution_count": 96,
     "metadata": {},
     "output_type": "execute_result"
    }
   ],
   "source": [
    "\"\"\"Nous avons bien classement X et classement Y, aux quels nous pouvons préciser des suffixes avec l'option Suffix, par exemple ici\n",
    "Novembre et Décembre\"\"\"\n",
    "pd.merge(df8,df9,on='Salarié',suffixes=['Novembre','Decembre'])"
   ]
  },
  {
   "cell_type": "code",
   "execution_count": null,
   "id": "ac84b1c2",
   "metadata": {},
   "outputs": [],
   "source": []
  }
 ],
 "metadata": {
  "kernelspec": {
   "display_name": "Python 3 (ipykernel)",
   "language": "python",
   "name": "python3"
  },
  "language_info": {
   "codemirror_mode": {
    "name": "ipython",
    "version": 3
   },
   "file_extension": ".py",
   "mimetype": "text/x-python",
   "name": "python",
   "nbconvert_exporter": "python",
   "pygments_lexer": "ipython3",
   "version": "3.10.9"
  }
 },
 "nbformat": 4,
 "nbformat_minor": 5
}
