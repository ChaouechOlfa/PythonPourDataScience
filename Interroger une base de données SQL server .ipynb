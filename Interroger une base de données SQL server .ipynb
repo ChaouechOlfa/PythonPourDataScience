{
 "cells": [
  {
   "cell_type": "code",
   "execution_count": 37,
   "id": "9f9751d6",
   "metadata": {},
   "outputs": [],
   "source": [
    "import numpy\n",
    "import pandas as pd\n",
    "import pyodbc"
   ]
  },
  {
   "cell_type": "code",
   "execution_count": 47,
   "id": "b16641e7",
   "metadata": {},
   "outputs": [],
   "source": [
    "\n",
    "conn = pyodbc.connect(\n",
    "    \"Driver={SQL Server};\"\n",
    "    \"Server=LAPTOP-L9SB4QLJ;\"\n",
    "    \"Database=irissql;\"\n",
    "    \"Trusted_Connection=yes;\"\n",
    ")"
   ]
  },
  {
   "cell_type": "code",
   "execution_count": 43,
   "id": "86877eb3",
   "metadata": {},
   "outputs": [
    {
     "name": "stdout",
     "output_type": "stream",
     "text": [
      "mssql+pyodbc://LAPTOP-L9SB4QLJ%5Cchaou@LAPTOP-L9SB4QLJ/irissql?driver=SQL Server\n"
     ]
    }
   ],
   "source": [
    "#Pour trouver MSSQL URL\n",
    "from urllib.parse import quote_plus\n",
    "\n",
    "# Database connection details\n",
    "server = 'LAPTOP-L9SB4QLJ'\n",
    "database = 'irissql'\n",
    "username = 'LAPTOP-L9SB4QLJ\\chaou'\n",
    "password = ''\n",
    "\n",
    "# Construct the MSSQL connection URL\n",
    "if password == '':\n",
    "    url = f'mssql+pyodbc://{quote_plus(username)}@{server}/{database}?driver=SQL Server'\n",
    "else:\n",
    "    url = f'mssql+pyodbc://{quote_plus(username)}:{quote_plus(password)}@{server}/{database}?driver=SQL Server'\n",
    "\n",
    "# Print the connection URL\n",
    "print(url)\n"
   ]
  },
  {
   "cell_type": "code",
   "execution_count": null,
   "id": "72e7dce3",
   "metadata": {},
   "outputs": [],
   "source": [
    "from sqlalchemy import create_engine"
   ]
  },
  {
   "cell_type": "code",
   "execution_count": null,
   "id": "aafd47da",
   "metadata": {},
   "outputs": [],
   "source": [
    "# Create an SQLAlchemy engine\n",
    "engine = create_engine('mssql+pyodbc://LAPTOP-L9SB4QLJ%5Cchaou@LAPTOP-L9SB4QLJ/irissql?driver=SQL+Server')"
   ]
  },
  {
   "cell_type": "code",
   "execution_count": null,
   "id": "3a0fb0b3",
   "metadata": {},
   "outputs": [],
   "source": [
    "import pandas as pd\n",
    "from sqlalchemy import create_engine\n",
    "\n",
    "# Create an SQLAlchemy engine\n",
    "engine = create_engine('mssql+pyodbc://LAPTOP-L9SB4QLJ%5Cchaou@LAPTOP-L9SB4QLJ/irissql?driver=SQL+Server')"
   ]
  },
  {
   "cell_type": "code",
   "execution_count": null,
   "id": "f57cf1b6",
   "metadata": {},
   "outputs": [],
   "source": [
    "# Use the engine to read data from the database\n",
    "T = pd.read_sql(requête, engine)"
   ]
  },
  {
   "cell_type": "code",
   "execution_count": null,
   "id": "8327f791",
   "metadata": {},
   "outputs": [],
   "source": [
    "#Nous pouvons désormais voir à quoi ressemblent les élément de notre variable\n"
   ]
  }
 ],
 "metadata": {
  "kernelspec": {
   "display_name": "Python 3 (ipykernel)",
   "language": "python",
   "name": "python3"
  },
  "language_info": {
   "codemirror_mode": {
    "name": "ipython",
    "version": 3
   },
   "file_extension": ".py",
   "mimetype": "text/x-python",
   "name": "python",
   "nbconvert_exporter": "python",
   "pygments_lexer": "ipython3",
   "version": "3.10.9"
  }
 },
 "nbformat": 4,
 "nbformat_minor": 5
}
