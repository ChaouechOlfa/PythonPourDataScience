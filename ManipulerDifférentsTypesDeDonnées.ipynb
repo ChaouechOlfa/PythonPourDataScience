{
 "cells": [
  {
   "cell_type": "code",
   "execution_count": 37,
   "id": "f08c6d8d",
   "metadata": {},
   "outputs": [],
   "source": [
    "#Manipuler les données quantitatives avec numpy\n",
    "import numpy as np\n",
    "import pandas as pd"
   ]
  },
  {
   "cell_type": "code",
   "execution_count": 8,
   "id": "5031f9f2",
   "metadata": {},
   "outputs": [],
   "source": [
    "#Exemple\n",
    "ar=np.array([1,2,3,4])"
   ]
  },
  {
   "cell_type": "code",
   "execution_count": 9,
   "id": "9da9b3b3",
   "metadata": {},
   "outputs": [
    {
     "data": {
      "text/plain": [
       "array([1, 2, 3, 4])"
      ]
     },
     "execution_count": 9,
     "metadata": {},
     "output_type": "execute_result"
    }
   ],
   "source": [
    "ar"
   ]
  },
  {
   "cell_type": "code",
   "execution_count": 10,
   "id": "97d66625",
   "metadata": {},
   "outputs": [
    {
     "data": {
      "text/plain": [
       "dtype('int32')"
      ]
     },
     "execution_count": 10,
     "metadata": {},
     "output_type": "execute_result"
    }
   ],
   "source": [
    "ar.dtype"
   ]
  },
  {
   "cell_type": "code",
   "execution_count": 11,
   "id": "e7e881a4",
   "metadata": {},
   "outputs": [
    {
     "data": {
      "text/plain": [
       "numpy.ndarray"
      ]
     },
     "execution_count": 11,
     "metadata": {},
     "output_type": "execute_result"
    }
   ],
   "source": [
    "type(ar)"
   ]
  },
  {
   "cell_type": "code",
   "execution_count": 12,
   "id": "042b6b4f",
   "metadata": {},
   "outputs": [
    {
     "name": "stdout",
     "output_type": "stream",
     "text": [
      "dimension= 1 taille= 4 forme= (4,)\n"
     ]
    }
   ],
   "source": [
    "print(\"dimension=\",ar.ndim,\"taille=\",ar.size,\"forme=\",ar.shape)"
   ]
  },
  {
   "cell_type": "code",
   "execution_count": 13,
   "id": "808fdef4",
   "metadata": {},
   "outputs": [
    {
     "data": {
      "text/plain": [
       "2"
      ]
     },
     "execution_count": 13,
     "metadata": {},
     "output_type": "execute_result"
    }
   ],
   "source": [
    "ar[1]"
   ]
  },
  {
   "cell_type": "code",
   "execution_count": 14,
   "id": "388d58de",
   "metadata": {},
   "outputs": [
    {
     "name": "stdout",
     "output_type": "stream",
     "text": [
      "ar[-1]= 4 et ar[-2]= 3\n"
     ]
    }
   ],
   "source": [
    "#Indexer à partir de la fin du tableau\n",
    "print(\"ar[-1]=\",ar[-1],\"et ar[-2]=\",ar[-2])"
   ]
  },
  {
   "cell_type": "code",
   "execution_count": 15,
   "id": "405505c8",
   "metadata": {},
   "outputs": [],
   "source": [
    "#Tableau multidimensionnel\n",
    "ar1=np.array([[1,2,3],[4,5,6]])"
   ]
  },
  {
   "cell_type": "code",
   "execution_count": 16,
   "id": "b5e53c69",
   "metadata": {},
   "outputs": [
    {
     "data": {
      "text/plain": [
       "array([[1, 2, 3],\n",
       "       [4, 5, 6]])"
      ]
     },
     "execution_count": 16,
     "metadata": {},
     "output_type": "execute_result"
    }
   ],
   "source": [
    "ar1"
   ]
  },
  {
   "cell_type": "code",
   "execution_count": 17,
   "id": "d41094f6",
   "metadata": {},
   "outputs": [
    {
     "data": {
      "text/plain": [
       "4"
      ]
     },
     "execution_count": 17,
     "metadata": {},
     "output_type": "execute_result"
    }
   ],
   "source": [
    "#Pour accéder à l'élément quatre\n",
    "ar1[1,0]"
   ]
  },
  {
   "cell_type": "code",
   "execution_count": 18,
   "id": "7530847e",
   "metadata": {},
   "outputs": [],
   "source": [
    "#Modifiant la valeur d'un élément donné\n",
    "ar1[0,0]=7"
   ]
  },
  {
   "cell_type": "code",
   "execution_count": 19,
   "id": "a2b98202",
   "metadata": {},
   "outputs": [
    {
     "data": {
      "text/plain": [
       "array([[7, 2, 3],\n",
       "       [4, 5, 6]])"
      ]
     },
     "execution_count": 19,
     "metadata": {},
     "output_type": "execute_result"
    }
   ],
   "source": [
    "ar1"
   ]
  },
  {
   "cell_type": "code",
   "execution_count": 23,
   "id": "636c6660",
   "metadata": {},
   "outputs": [
    {
     "data": {
      "text/plain": [
       "array([ 0,  3,  6,  9, 12, 15, 18])"
      ]
     },
     "execution_count": 23,
     "metadata": {},
     "output_type": "execute_result"
    }
   ],
   "source": [
    "#Découpage\n",
    "#Exemple\n",
    "ar2=np.arange(0,20,3)\n",
    "ar2"
   ]
  },
  {
   "cell_type": "code",
   "execution_count": 21,
   "id": "03897d09",
   "metadata": {},
   "outputs": [],
   "source": [
    "#le tableau \"ar3\" contenant les cinq premiers éléments de \"ar2\"\n",
    "ar3=ar2[:5]"
   ]
  },
  {
   "cell_type": "code",
   "execution_count": 22,
   "id": "0b13db90",
   "metadata": {},
   "outputs": [
    {
     "data": {
      "text/plain": [
       "array([ 0,  3,  6,  9, 12])"
      ]
     },
     "execution_count": 22,
     "metadata": {},
     "output_type": "execute_result"
    }
   ],
   "source": [
    "ar3"
   ]
  },
  {
   "cell_type": "code",
   "execution_count": 24,
   "id": "af9dd9ee",
   "metadata": {},
   "outputs": [
    {
     "data": {
      "text/plain": [
       "array([0, 6])"
      ]
     },
     "execution_count": 24,
     "metadata": {},
     "output_type": "execute_result"
    }
   ],
   "source": [
    "#Découpage de ar2 jusqu'à l'élément 3 et avec un pas de 2\n",
    "ar3[:4:2]"
   ]
  },
  {
   "cell_type": "code",
   "execution_count": 25,
   "id": "2d2f6e5a",
   "metadata": {},
   "outputs": [
    {
     "data": {
      "text/plain": [
       "array([9, 6, 3, 0])"
      ]
     },
     "execution_count": 25,
     "metadata": {},
     "output_type": "execute_result"
    }
   ],
   "source": [
    "#Nous allons jusqu'à l'indice trois puis nous inversons notre tableau\n",
    "ar3[3::-1]"
   ]
  },
  {
   "cell_type": "code",
   "execution_count": 26,
   "id": "7d64acfd",
   "metadata": {},
   "outputs": [],
   "source": [
    "#Remodelage\n",
    "ar4=ar1.reshape(3,2)"
   ]
  },
  {
   "cell_type": "code",
   "execution_count": 27,
   "id": "0c264d91",
   "metadata": {},
   "outputs": [
    {
     "data": {
      "text/plain": [
       "array([[7, 2],\n",
       "       [3, 4],\n",
       "       [5, 6]])"
      ]
     },
     "execution_count": 27,
     "metadata": {},
     "output_type": "execute_result"
    }
   ],
   "source": [
    "ar4"
   ]
  },
  {
   "cell_type": "code",
   "execution_count": 39,
   "id": "37f58e7a",
   "metadata": {},
   "outputs": [],
   "source": [
    "#Aborder les techniques d'encodage\n",
    "df=pd.DataFrame({'Salarié':['Eric','Elise','Hapsa','Xin'],'Genre':['Homme','Femme','Femme','Homme'],'groupe':['Technicien','Ingénieur','PhD','Technicien'],'Date_embauche':[2016,1988,2012,2001],'Salaire':[30000,100000,60000,60000]})\n"
   ]
  },
  {
   "cell_type": "code",
   "execution_count": 40,
   "id": "49887ade",
   "metadata": {},
   "outputs": [],
   "source": [
    "#Création d'une Copie de notre DataFrame\n",
    "df1=df.copy()"
   ]
  },
  {
   "cell_type": "code",
   "execution_count": 41,
   "id": "492a6100",
   "metadata": {},
   "outputs": [],
   "source": [
    "#encodage numérique avec pandas\n",
    "pré_traitement={\"groupe\":{\"PhD\":1,\"Ingénieur\":2,\"Technicien\":3}}"
   ]
  },
  {
   "cell_type": "code",
   "execution_count": 42,
   "id": "ae843fa2",
   "metadata": {},
   "outputs": [
    {
     "data": {
      "text/html": [
       "<div>\n",
       "<style scoped>\n",
       "    .dataframe tbody tr th:only-of-type {\n",
       "        vertical-align: middle;\n",
       "    }\n",
       "\n",
       "    .dataframe tbody tr th {\n",
       "        vertical-align: top;\n",
       "    }\n",
       "\n",
       "    .dataframe thead th {\n",
       "        text-align: right;\n",
       "    }\n",
       "</style>\n",
       "<table border=\"1\" class=\"dataframe\">\n",
       "  <thead>\n",
       "    <tr style=\"text-align: right;\">\n",
       "      <th></th>\n",
       "      <th>Salarié</th>\n",
       "      <th>Genre</th>\n",
       "      <th>groupe</th>\n",
       "      <th>Date_embauche</th>\n",
       "      <th>Salaire</th>\n",
       "    </tr>\n",
       "  </thead>\n",
       "  <tbody>\n",
       "    <tr>\n",
       "      <th>0</th>\n",
       "      <td>Eric</td>\n",
       "      <td>Homme</td>\n",
       "      <td>3</td>\n",
       "      <td>2016</td>\n",
       "      <td>30000</td>\n",
       "    </tr>\n",
       "    <tr>\n",
       "      <th>1</th>\n",
       "      <td>Elise</td>\n",
       "      <td>Femme</td>\n",
       "      <td>2</td>\n",
       "      <td>1988</td>\n",
       "      <td>100000</td>\n",
       "    </tr>\n",
       "    <tr>\n",
       "      <th>2</th>\n",
       "      <td>Hapsa</td>\n",
       "      <td>Femme</td>\n",
       "      <td>1</td>\n",
       "      <td>2012</td>\n",
       "      <td>60000</td>\n",
       "    </tr>\n",
       "    <tr>\n",
       "      <th>3</th>\n",
       "      <td>Xin</td>\n",
       "      <td>Homme</td>\n",
       "      <td>3</td>\n",
       "      <td>2001</td>\n",
       "      <td>60000</td>\n",
       "    </tr>\n",
       "  </tbody>\n",
       "</table>\n",
       "</div>"
      ],
      "text/plain": [
       "  Salarié  Genre  groupe  Date_embauche  Salaire\n",
       "0    Eric  Homme       3           2016    30000\n",
       "1   Elise  Femme       2           1988   100000\n",
       "2   Hapsa  Femme       1           2012    60000\n",
       "3     Xin  Homme       3           2001    60000"
      ]
     },
     "execution_count": 42,
     "metadata": {},
     "output_type": "execute_result"
    }
   ],
   "source": [
    "df1.replace(pré_traitement,inplace=True)\n",
    "df1"
   ]
  },
  {
   "cell_type": "code",
   "execution_count": 43,
   "id": "a97694fd",
   "metadata": {},
   "outputs": [],
   "source": [
    "#encodage numérique avec scikit-learn\n",
    "from sklearn.preprocessing import LabelEncoder\n",
    "df['groupe_encodé']=LabelEncoder().fit_transform(df['groupe'])"
   ]
  },
  {
   "cell_type": "code",
   "execution_count": 44,
   "id": "1a810525",
   "metadata": {},
   "outputs": [],
   "source": [
    "#Pour modifier l'ordre qui est par défaut l'ordre alphabétique, nous allons utiliser la fct Map de pandas\n",
    "df['groupe_encodé']=df['groupe'].map({'PhD':1,'Ingénieur':2,'Technicien':3})"
   ]
  },
  {
   "cell_type": "code",
   "execution_count": 45,
   "id": "5c87d7d6",
   "metadata": {},
   "outputs": [
    {
     "data": {
      "text/html": [
       "<div>\n",
       "<style scoped>\n",
       "    .dataframe tbody tr th:only-of-type {\n",
       "        vertical-align: middle;\n",
       "    }\n",
       "\n",
       "    .dataframe tbody tr th {\n",
       "        vertical-align: top;\n",
       "    }\n",
       "\n",
       "    .dataframe thead th {\n",
       "        text-align: right;\n",
       "    }\n",
       "</style>\n",
       "<table border=\"1\" class=\"dataframe\">\n",
       "  <thead>\n",
       "    <tr style=\"text-align: right;\">\n",
       "      <th></th>\n",
       "      <th>groupe</th>\n",
       "      <th>groupe_encodé</th>\n",
       "    </tr>\n",
       "  </thead>\n",
       "  <tbody>\n",
       "    <tr>\n",
       "      <th>0</th>\n",
       "      <td>Technicien</td>\n",
       "      <td>3</td>\n",
       "    </tr>\n",
       "    <tr>\n",
       "      <th>1</th>\n",
       "      <td>Ingénieur</td>\n",
       "      <td>2</td>\n",
       "    </tr>\n",
       "    <tr>\n",
       "      <th>2</th>\n",
       "      <td>PhD</td>\n",
       "      <td>1</td>\n",
       "    </tr>\n",
       "    <tr>\n",
       "      <th>3</th>\n",
       "      <td>Technicien</td>\n",
       "      <td>3</td>\n",
       "    </tr>\n",
       "  </tbody>\n",
       "</table>\n",
       "</div>"
      ],
      "text/plain": [
       "       groupe  groupe_encodé\n",
       "0  Technicien              3\n",
       "1   Ingénieur              2\n",
       "2         PhD              1\n",
       "3  Technicien              3"
      ]
     },
     "execution_count": 45,
     "metadata": {},
     "output_type": "execute_result"
    }
   ],
   "source": [
    "df[['groupe','groupe_encodé']]"
   ]
  },
  {
   "cell_type": "code",
   "execution_count": null,
   "id": "3ec01c99",
   "metadata": {},
   "outputs": [],
   "source": [
    "#Encodage on"
   ]
  }
 ],
 "metadata": {
  "kernelspec": {
   "display_name": "Python 3 (ipykernel)",
   "language": "python",
   "name": "python3"
  },
  "language_info": {
   "codemirror_mode": {
    "name": "ipython",
    "version": 3
   },
   "file_extension": ".py",
   "mimetype": "text/x-python",
   "name": "python",
   "nbconvert_exporter": "python",
   "pygments_lexer": "ipython3",
   "version": "3.10.9"
  }
 },
 "nbformat": 4,
 "nbformat_minor": 5
}
