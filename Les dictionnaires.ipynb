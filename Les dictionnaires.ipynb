{
 "cells": [
  {
   "cell_type": "code",
   "execution_count": 1,
   "id": "6ddb6dc8",
   "metadata": {},
   "outputs": [],
   "source": [
    "#Un dictionnaire est crée avec des paires clés, valeurs entre accolades et séparées par des virgules\n",
    "equipe={'Benatia':'Juventus','Messi':'Barcelone','Pogba':'ManV'}"
   ]
  },
  {
   "cell_type": "code",
   "execution_count": 2,
   "id": "2420b580",
   "metadata": {},
   "outputs": [
    {
     "data": {
      "text/plain": [
       "{'Benatia': 'Juventus', 'Messi': 'Barcelone', 'Pogba': 'ManV'}"
      ]
     },
     "execution_count": 2,
     "metadata": {},
     "output_type": "execute_result"
    }
   ],
   "source": [
    "equipe"
   ]
  },
  {
   "cell_type": "code",
   "execution_count": 3,
   "id": "f4d648ee",
   "metadata": {},
   "outputs": [
    {
     "data": {
      "text/plain": [
       "'Juventus'"
      ]
     },
     "execution_count": 3,
     "metadata": {},
     "output_type": "execute_result"
    }
   ],
   "source": [
    "equipe['Benatia']"
   ]
  },
  {
   "cell_type": "code",
   "execution_count": 4,
   "id": "b4f9edb9",
   "metadata": {},
   "outputs": [
    {
     "data": {
      "text/plain": [
       "'ManV'"
      ]
     },
     "execution_count": 4,
     "metadata": {},
     "output_type": "execute_result"
    }
   ],
   "source": [
    "#Vous pouver utiliser la méthode get pour récupérer une valeur dans un dictionnaire\n",
    "equipe.get(\"Pogba\")"
   ]
  },
  {
   "cell_type": "code",
   "execution_count": 6,
   "id": "e506046d",
   "metadata": {},
   "outputs": [
    {
     "data": {
      "text/plain": [
       "False"
      ]
     },
     "execution_count": 6,
     "metadata": {},
     "output_type": "execute_result"
    }
   ],
   "source": [
    "#Nous pouvons vérifier si un élément existe ou nn avec l'opérateur in \n",
    "'Cristiano' in equipe"
   ]
  },
  {
   "cell_type": "code",
   "execution_count": 7,
   "id": "7f66e9ae",
   "metadata": {},
   "outputs": [],
   "source": [
    "#Nous pouvons supprimer des éléments dans un dictionnaire, en utilisant del et en les identifiant par leur clé\n",
    "del equipe['Messi']"
   ]
  },
  {
   "cell_type": "code",
   "execution_count": 8,
   "id": "ad3327d2",
   "metadata": {},
   "outputs": [
    {
     "data": {
      "text/plain": [
       "{'Benatia': 'Juventus', 'Pogba': 'ManV'}"
      ]
     },
     "execution_count": 8,
     "metadata": {},
     "output_type": "execute_result"
    }
   ],
   "source": [
    "equipe"
   ]
  },
  {
   "cell_type": "code",
   "execution_count": 9,
   "id": "947f63a3",
   "metadata": {},
   "outputs": [
    {
     "name": "stdout",
     "output_type": "stream",
     "text": [
      "dict_keys(['Benatia', 'Pogba'])\n"
     ]
    }
   ],
   "source": [
    "#La fonction Keys quant à elle renvoie la liste des clés utilisées dans le dictionnaire\n",
    "print(equipe.keys())"
   ]
  },
  {
   "cell_type": "code",
   "execution_count": 10,
   "id": "b753eae7",
   "metadata": {},
   "outputs": [
    {
     "name": "stdout",
     "output_type": "stream",
     "text": [
      "dict_values(['Juventus', 'ManV'])\n"
     ]
    }
   ],
   "source": [
    "#Pour obtenir les valeurs on utilise la fonction values\n",
    "print(equipe.values())"
   ]
  },
  {
   "cell_type": "code",
   "execution_count": 13,
   "id": "05e6578b",
   "metadata": {},
   "outputs": [
    {
     "name": "stdout",
     "output_type": "stream",
     "text": [
      "dict_items([('Benatia', 'Juventus'), ('Pogba', 'ManV')])\n"
     ]
    }
   ],
   "source": [
    "#La fonction items permet d'extraire du dictionnaire une liste équivalente de paires clés et valeurs\n",
    "print(equipe.items())"
   ]
  },
  {
   "cell_type": "code",
   "execution_count": 18,
   "id": "e3025461",
   "metadata": {},
   "outputs": [
    {
     "name": "stdout",
     "output_type": "stream",
     "text": [
      "le joueur Benatia joue dans l'équipe de  Juventus\n",
      "le joueur Pogba joue dans l'équipe de  ManV\n"
     ]
    }
   ],
   "source": [
    "#il est possible d'utiliser la fonction items pour faire une boucle sur les clés et les valeurs\n",
    "for cle, valeur in equipe.items():\n",
    "    print(\"le joueur\",cle,\"joue dans l'équipe de \",valeur)"
   ]
  },
  {
   "cell_type": "code",
   "execution_count": 23,
   "id": "6bd8ab0f",
   "metadata": {},
   "outputs": [],
   "source": [
    "#Concaténation: nous utilisons la fonction update\n",
    "equipe1={'Cristiono':'Juventus','Hazard':'Madrid'}\n",
    "equipe.update(equipe1)"
   ]
  },
  {
   "cell_type": "code",
   "execution_count": 20,
   "id": "10f0564f",
   "metadata": {},
   "outputs": [
    {
     "data": {
      "text/plain": [
       "{'Cristiono': 'Juventus', 'Hazard': 'Madrid'}"
      ]
     },
     "execution_count": 20,
     "metadata": {},
     "output_type": "execute_result"
    }
   ],
   "source": [
    "equipe1"
   ]
  },
  {
   "cell_type": "code",
   "execution_count": 22,
   "id": "d69b1b48",
   "metadata": {},
   "outputs": [
    {
     "data": {
      "text/plain": [
       "{'Benatia': 'Juventus',\n",
       " 'Pogba': 'ManV',\n",
       " 'Cristiono': 'Juventus',\n",
       " 'Hazard': 'Madrid'}"
      ]
     },
     "execution_count": 22,
     "metadata": {},
     "output_type": "execute_result"
    }
   ],
   "source": [
    "equipe"
   ]
  },
  {
   "cell_type": "code",
   "execution_count": null,
   "id": "0932c519",
   "metadata": {},
   "outputs": [],
   "source": []
  }
 ],
 "metadata": {
  "kernelspec": {
   "display_name": "Python 3 (ipykernel)",
   "language": "python",
   "name": "python3"
  },
  "language_info": {
   "codemirror_mode": {
    "name": "ipython",
    "version": 3
   },
   "file_extension": ".py",
   "mimetype": "text/x-python",
   "name": "python",
   "nbconvert_exporter": "python",
   "pygments_lexer": "ipython3",
   "version": "3.10.9"
  }
 },
 "nbformat": 4,
 "nbformat_minor": 5
}
